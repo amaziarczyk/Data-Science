{
  "nbformat": 4,
  "nbformat_minor": 0,
  "metadata": {
    "colab": {
      "name": "1. Kodowanie.ipynb",
      "provenance": [],
      "authorship_tag": "ABX9TyP20LGuWVeGunrZxgFL97fb",
      "include_colab_link": true
    },
    "kernelspec": {
      "name": "python3",
      "display_name": "Python 3"
    }
  },
  "cells": [
    {
      "cell_type": "markdown",
      "metadata": {
        "id": "view-in-github",
        "colab_type": "text"
      },
      "source": [
        "<a href=\"https://colab.research.google.com/github/amaziarczyk/Data-Science/blob/main/1_Kodowanie.ipynb\" target=\"_parent\"><img src=\"https://colab.research.google.com/assets/colab-badge.svg\" alt=\"Open In Colab\"/></a>"
      ]
    },
    {
      "cell_type": "code",
      "metadata": {
        "id": "h-dJHROo6TR_"
      },
      "source": [
        "import sklearn"
      ],
      "execution_count": null,
      "outputs": []
    },
    {
      "cell_type": "markdown",
      "metadata": {
        "id": "9r7OeJJf6JzV"
      },
      "source": [
        "# Zmienna target"
      ]
    },
    {
      "cell_type": "markdown",
      "metadata": {
        "id": "Z8YF5-2w62IE"
      },
      "source": [
        "Label Encoder"
      ]
    },
    {
      "cell_type": "code",
      "metadata": {
        "id": "u7kLJ_IA6D1_"
      },
      "source": [
        "from sklearn.preprocessing import LabelEncoder\r\n",
        "\r\n",
        "le=LabelEncoder()\r\n",
        "df['Kol1']=le.fit_transform(df['Kol1'])\r\n",
        "le.classes_"
      ],
      "execution_count": null,
      "outputs": []
    },
    {
      "cell_type": "markdown",
      "metadata": {
        "id": "zYtHSWk77beI"
      },
      "source": [
        "# Zmienne data"
      ]
    },
    {
      "cell_type": "markdown",
      "metadata": {
        "id": "QqxPO5sK65Qk"
      },
      "source": [
        "OneHotEncoder"
      ]
    },
    {
      "cell_type": "code",
      "metadata": {
        "id": "4Ls6Wgdi69lz"
      },
      "source": [
        "from sklearn.preprocessing import OneHotEncoder\r\n",
        "\r\n",
        "encoder=OneHotEncoder(drop_first=True, sparse=False)\r\n",
        "df['Kol1']=encoder.fit+transform(df['Kol1'])"
      ],
      "execution_count": null,
      "outputs": []
    },
    {
      "cell_type": "markdown",
      "metadata": {
        "id": "VgOcwmqt7fAD"
      },
      "source": [
        "Pandas get_dummies"
      ]
    },
    {
      "cell_type": "code",
      "metadata": {
        "id": "-MnPSxpv7eqJ"
      },
      "source": [
        "pd.get_dummies(data=df, \r\n",
        "               drop_first=True, \r\n",
        "               prefix_sep='-',\r\n",
        "               columns=[''])"
      ],
      "execution_count": null,
      "outputs": []
    }
  ]
}