{
  "nbformat": 4,
  "nbformat_minor": 0,
  "metadata": {
    "colab": {
      "name": "Predict_sales.ipynb",
      "provenance": [],
      "mount_file_id": "11Y48PN2SCejp_XJi7RKj2pkp2xBewdAx",
      "authorship_tag": "ABX9TyNl8QYc2ZwQ/syVAx7w7sNY",
      "include_colab_link": true
    },
    "kernelspec": {
      "name": "python3",
      "display_name": "Python 3"
    }
  },
  "cells": [
    {
      "cell_type": "markdown",
      "metadata": {
        "id": "view-in-github",
        "colab_type": "text"
      },
      "source": [
        "<a href=\"https://colab.research.google.com/github/amaziarczyk/Data-Science/blob/main/Kaggle/Predict_sales.ipynb\" target=\"_parent\"><img src=\"https://colab.research.google.com/assets/colab-badge.svg\" alt=\"Open In Colab\"/></a>"
      ]
    },
    {
      "cell_type": "markdown",
      "metadata": {
        "id": "-Nj4l0eDwNfV"
      },
      "source": [
        "**Rozwiązanie do projektu ,,Predict Future Sales\"**\r\n",
        "\r\n",
        "sales_train.csv - zestaw treningowy. Dzienne dane historyczne od stycznia 2013 r. do października 2015 r.\r\n",
        "\r\n",
        "test.csv - zestaw testowy. Musisz prognozować sprzedaż dla tych sklepów i produktów na listopad 2015.\r\n",
        "\r\n",
        "sample_submission.csv - przykładowy plik przesyłania w odpowiednim formacie. przedmioty.csv - dodatkowe informacje o produktach/produktach.\r\n",
        "\r\n",
        "item_categories.csv - dodatkowe informacje o kategoriach przedmiotów. sklepy.csv- dodatkowe informacje o sklepach.\r\n",
        "\r\n",
        "Pola danych\r\n",
        "\r\n",
        "ID - identyfikator reprezentujący krotkę (Sklep, Przedmiot) w zestawie testowym\r\n",
        "\r\n",
        "shop_id - unikalny identyfikator sklepu\r\n",
        "\r\n",
        "item_id - unikatowy identyfikator produktu\r\n",
        "\r\n",
        "item_category_id - unikatowy identyfikator kategorii towaru\r\n",
        "\r\n",
        "item_cnt_day - liczba sprzedanych produktów. Przewidujesz miesięczną kwotę tej miary\r\n",
        "\r\n",
        "item_price - aktualna cena towaru\r\n",
        "\r\n",
        "data - data w formacie dd/mm/yyyy\r\n",
        "\r\n",
        "date_block_num - kolejny numer miesiąca, używany dla wygody. Styczeń 2013 jest 0, luty 2013 jest 1,..., październiku 2015 jest 33\r\n",
        "\r\n",
        "item_name - nazwa przedmiotu\r\n",
        "\r\n",
        "shop_name - nazwa sklepu\r\n",
        "\r\n",
        "item_category_name - nazwa kategorii towaru\r\n"
      ]
    },
    {
      "cell_type": "code",
      "metadata": {
        "id": "rqqm594dmYyd"
      },
      "source": [
        "import pandas as pd\r\n",
        "import numpy as np\r\n",
        "import plotly.express as px\r\n",
        "import matplotlib.pyplot as plt\r\n",
        "import seaborn as sns"
      ],
      "execution_count": null,
      "outputs": []
    },
    {
      "cell_type": "code",
      "metadata": {
        "id": "njDAB7nvmk8r"
      },
      "source": [
        "train=pd.read_csv('/content/drive/MyDrive/Colab Notebooks/Kaggle/Sprzedaż/competitive-data-science-predict-future-sales/sales_train.csv')\r\n",
        "test=pd.read_csv('/content/drive/MyDrive/Colab Notebooks/Kaggle/Sprzedaż/competitive-data-science-predict-future-sales/test.csv')"
      ],
      "execution_count": null,
      "outputs": []
    },
    {
      "cell_type": "code",
      "metadata": {
        "colab": {
          "base_uri": "https://localhost:8080/",
          "height": 206
        },
        "id": "pHDEdPBXm9RL",
        "outputId": "5d2ead6b-ef1d-41c2-8bc5-a94b97efa322"
      },
      "source": [
        "train.head()"
      ],
      "execution_count": null,
      "outputs": [
        {
          "output_type": "execute_result",
          "data": {
            "text/html": [
              "<div>\n",
              "<style scoped>\n",
              "    .dataframe tbody tr th:only-of-type {\n",
              "        vertical-align: middle;\n",
              "    }\n",
              "\n",
              "    .dataframe tbody tr th {\n",
              "        vertical-align: top;\n",
              "    }\n",
              "\n",
              "    .dataframe thead th {\n",
              "        text-align: right;\n",
              "    }\n",
              "</style>\n",
              "<table border=\"1\" class=\"dataframe\">\n",
              "  <thead>\n",
              "    <tr style=\"text-align: right;\">\n",
              "      <th></th>\n",
              "      <th>date</th>\n",
              "      <th>date_block_num</th>\n",
              "      <th>shop_id</th>\n",
              "      <th>item_id</th>\n",
              "      <th>item_price</th>\n",
              "      <th>item_cnt_day</th>\n",
              "    </tr>\n",
              "  </thead>\n",
              "  <tbody>\n",
              "    <tr>\n",
              "      <th>0</th>\n",
              "      <td>02.01.2013</td>\n",
              "      <td>0</td>\n",
              "      <td>59</td>\n",
              "      <td>22154</td>\n",
              "      <td>999.00</td>\n",
              "      <td>1.0</td>\n",
              "    </tr>\n",
              "    <tr>\n",
              "      <th>1</th>\n",
              "      <td>03.01.2013</td>\n",
              "      <td>0</td>\n",
              "      <td>25</td>\n",
              "      <td>2552</td>\n",
              "      <td>899.00</td>\n",
              "      <td>1.0</td>\n",
              "    </tr>\n",
              "    <tr>\n",
              "      <th>2</th>\n",
              "      <td>05.01.2013</td>\n",
              "      <td>0</td>\n",
              "      <td>25</td>\n",
              "      <td>2552</td>\n",
              "      <td>899.00</td>\n",
              "      <td>-1.0</td>\n",
              "    </tr>\n",
              "    <tr>\n",
              "      <th>3</th>\n",
              "      <td>06.01.2013</td>\n",
              "      <td>0</td>\n",
              "      <td>25</td>\n",
              "      <td>2554</td>\n",
              "      <td>1709.05</td>\n",
              "      <td>1.0</td>\n",
              "    </tr>\n",
              "    <tr>\n",
              "      <th>4</th>\n",
              "      <td>15.01.2013</td>\n",
              "      <td>0</td>\n",
              "      <td>25</td>\n",
              "      <td>2555</td>\n",
              "      <td>1099.00</td>\n",
              "      <td>1.0</td>\n",
              "    </tr>\n",
              "  </tbody>\n",
              "</table>\n",
              "</div>"
            ],
            "text/plain": [
              "         date  date_block_num  shop_id  item_id  item_price  item_cnt_day\n",
              "0  02.01.2013               0       59    22154      999.00           1.0\n",
              "1  03.01.2013               0       25     2552      899.00           1.0\n",
              "2  05.01.2013               0       25     2552      899.00          -1.0\n",
              "3  06.01.2013               0       25     2554     1709.05           1.0\n",
              "4  15.01.2013               0       25     2555     1099.00           1.0"
            ]
          },
          "metadata": {
            "tags": []
          },
          "execution_count": 3
        }
      ]
    },
    {
      "cell_type": "code",
      "metadata": {
        "id": "-j8SvM93nE2W"
      },
      "source": [
        "train['date']=pd.to_datetime(train['date'])"
      ],
      "execution_count": null,
      "outputs": []
    },
    {
      "cell_type": "code",
      "metadata": {
        "colab": {
          "base_uri": "https://localhost:8080/",
          "height": 206
        },
        "id": "QVj93sa6m-cS",
        "outputId": "a8263654-6d23-44e1-8b2d-0d3b363f63c6"
      },
      "source": [
        "train['year']=pd.DatetimeIndex(train['date']).year\r\n",
        "train['month']=pd.DatetimeIndex(train['date']).month\r\n",
        "train['day']=pd.DatetimeIndex(train['date']).day\r\n",
        "train.head()"
      ],
      "execution_count": null,
      "outputs": [
        {
          "output_type": "execute_result",
          "data": {
            "text/html": [
              "<div>\n",
              "<style scoped>\n",
              "    .dataframe tbody tr th:only-of-type {\n",
              "        vertical-align: middle;\n",
              "    }\n",
              "\n",
              "    .dataframe tbody tr th {\n",
              "        vertical-align: top;\n",
              "    }\n",
              "\n",
              "    .dataframe thead th {\n",
              "        text-align: right;\n",
              "    }\n",
              "</style>\n",
              "<table border=\"1\" class=\"dataframe\">\n",
              "  <thead>\n",
              "    <tr style=\"text-align: right;\">\n",
              "      <th></th>\n",
              "      <th>date</th>\n",
              "      <th>date_block_num</th>\n",
              "      <th>shop_id</th>\n",
              "      <th>item_id</th>\n",
              "      <th>item_price</th>\n",
              "      <th>item_cnt_day</th>\n",
              "      <th>year</th>\n",
              "      <th>month</th>\n",
              "      <th>day</th>\n",
              "    </tr>\n",
              "  </thead>\n",
              "  <tbody>\n",
              "    <tr>\n",
              "      <th>0</th>\n",
              "      <td>02.01.2013</td>\n",
              "      <td>0</td>\n",
              "      <td>59</td>\n",
              "      <td>22154</td>\n",
              "      <td>999.00</td>\n",
              "      <td>1.0</td>\n",
              "      <td>2013</td>\n",
              "      <td>2</td>\n",
              "      <td>1</td>\n",
              "    </tr>\n",
              "    <tr>\n",
              "      <th>1</th>\n",
              "      <td>03.01.2013</td>\n",
              "      <td>0</td>\n",
              "      <td>25</td>\n",
              "      <td>2552</td>\n",
              "      <td>899.00</td>\n",
              "      <td>1.0</td>\n",
              "      <td>2013</td>\n",
              "      <td>3</td>\n",
              "      <td>1</td>\n",
              "    </tr>\n",
              "    <tr>\n",
              "      <th>2</th>\n",
              "      <td>05.01.2013</td>\n",
              "      <td>0</td>\n",
              "      <td>25</td>\n",
              "      <td>2552</td>\n",
              "      <td>899.00</td>\n",
              "      <td>-1.0</td>\n",
              "      <td>2013</td>\n",
              "      <td>5</td>\n",
              "      <td>1</td>\n",
              "    </tr>\n",
              "    <tr>\n",
              "      <th>3</th>\n",
              "      <td>06.01.2013</td>\n",
              "      <td>0</td>\n",
              "      <td>25</td>\n",
              "      <td>2554</td>\n",
              "      <td>1709.05</td>\n",
              "      <td>1.0</td>\n",
              "      <td>2013</td>\n",
              "      <td>6</td>\n",
              "      <td>1</td>\n",
              "    </tr>\n",
              "    <tr>\n",
              "      <th>4</th>\n",
              "      <td>15.01.2013</td>\n",
              "      <td>0</td>\n",
              "      <td>25</td>\n",
              "      <td>2555</td>\n",
              "      <td>1099.00</td>\n",
              "      <td>1.0</td>\n",
              "      <td>2013</td>\n",
              "      <td>1</td>\n",
              "      <td>15</td>\n",
              "    </tr>\n",
              "  </tbody>\n",
              "</table>\n",
              "</div>"
            ],
            "text/plain": [
              "         date  date_block_num  shop_id  item_id  ...  item_cnt_day  year  month  day\n",
              "0  02.01.2013               0       59    22154  ...           1.0  2013      2    1\n",
              "1  03.01.2013               0       25     2552  ...           1.0  2013      3    1\n",
              "2  05.01.2013               0       25     2552  ...          -1.0  2013      5    1\n",
              "3  06.01.2013               0       25     2554  ...           1.0  2013      6    1\n",
              "4  15.01.2013               0       25     2555  ...           1.0  2013      1   15\n",
              "\n",
              "[5 rows x 9 columns]"
            ]
          },
          "metadata": {
            "tags": []
          },
          "execution_count": 18
        }
      ]
    },
    {
      "cell_type": "code",
      "metadata": {
        "id": "IYtJfdZctYzL",
        "colab": {
          "base_uri": "https://localhost:8080/",
          "height": 321
        },
        "outputId": "2b1b5ecb-b2cd-4942-91c0-3c7f30a920ec"
      },
      "source": [
        "boxplot =train.boxplot( rot=45)\r\n"
      ],
      "execution_count": null,
      "outputs": [
        {
          "output_type": "display_data",
          "data": {
            "image/png": "[encoded data removed]",
            "text/plain": [
              "<Figure size 432x288 with 1 Axes>"
            ]
          },
          "metadata": {
            "tags": [],
            "needs_background": "light"
          }
        }
      ]
    },
    {
      "cell_type": "code",
      "metadata": {
        "id": "ZxuTRrL4aGM7"
      },
      "source": [
        "df_train=train[train['item_price']<30000]"
      ],
      "execution_count": null,
      "outputs": []
    },
    {
      "cell_type": "code",
      "metadata": {
        "colab": {
          "base_uri": "https://localhost:8080/",
          "height": 321
        },
        "id": "n7N01B6fbJ1c",
        "outputId": "fe96b3c7-a531-4ac2-d652-689ea51b7741"
      },
      "source": [
        "boxplot_2 =df_train.boxplot( rot=45)"
      ],
      "execution_count": null,
      "outputs": [
        {
          "output_type": "display_data",
          "data": {
            "image/png": "[encoded data removed]",
            "text/plain": [
              "<Figure size 432x288 with 1 Axes>"
            ]
          },
          "metadata": {
            "tags": [],
            "needs_background": "light"
          }
        }
      ]
    },
    {
      "cell_type": "code",
      "metadata": {
        "colab": {
          "base_uri": "https://localhost:8080/"
        },
        "id": "yQuiQyYhbNFg",
        "outputId": "7fedeb3d-3b3a-4799-8d05-a33d162df838"
      },
      "source": [
        "df_train.isnull().sum().sum()"
      ],
      "execution_count": null,
      "outputs": [
        {
          "output_type": "execute_result",
          "data": {
            "text/plain": [
              "0"
            ]
          },
          "metadata": {
            "tags": []
          },
          "execution_count": 20
        }
      ]
    },
    {
      "cell_type": "code",
      "metadata": {
        "id": "jgchPeR6btzj"
      },
      "source": [
        "corr=df_train.corr()"
      ],
      "execution_count": null,
      "outputs": []
    },
    {
      "cell_type": "code",
      "metadata": {
        "colab": {
          "base_uri": "https://localhost:8080/",
          "height": 475
        },
        "id": "DGa96E32b4dV",
        "outputId": "75d5b7bf-5769-45e5-95ce-b74d9f2bc415"
      },
      "source": [
        "sns.set(style=\"white\")\r\n",
        "mask = np.zeros_like(corr, dtype=np.bool)\r\n",
        "mask[np.triu_indices_from(mask)] = True\r\n",
        "f, ax = plt.subplots(figsize=(8, 6))\r\n",
        "cmap = sns.diverging_palette(120, 10, as_cmap=True)\r\n",
        "sns.heatmap(corr, mask=mask, vmax=.3, center=0, cmap=cmap,\r\n",
        "            square=True,linewidths=.8 , cbar_kws={\"shrink\": .5})"
      ],
      "execution_count": null,
      "outputs": [
        {
          "output_type": "execute_result",
          "data": {
            "text/plain": [
              "<matplotlib.axes._subplots.AxesSubplot at 0x7f2458442e48>"
            ]
          },
          "metadata": {
            "tags": []
          },
          "execution_count": 60
        },
        {
          "output_type": "display_data",
          "data": {
            "image/png": "[encoded data removed]",
            "text/plain": [
              "<Figure size 576x432 with 2 Axes>"
            ]
          },
          "metadata": {
            "tags": []
          }
        }
      ]
    },
    {
      "cell_type": "code",
      "metadata": {
        "colab": {
          "base_uri": "https://localhost:8080/",
          "height": 391
        },
        "id": "AwOYZzgvdEqC",
        "outputId": "4a3e85da-b117-4f12-d98b-303a2d72d7e7"
      },
      "source": [
        "group=df_train.groupby('month')['month'].agg('count')\r\n",
        "group.plot(kind= 'pie', title='Grupowanie wedługmiesiąca', figsize=(6,6), autopct='%0.1f', cmap=\"flare\")"
      ],
      "execution_count": null,
      "outputs": [
        {
          "output_type": "execute_result",
          "data": {
            "text/plain": [
              "<matplotlib.axes._subplots.AxesSubplot at 0x7f245852e860>"
            ]
          },
          "metadata": {
            "tags": []
          },
          "execution_count": 56
        },
        {
          "output_type": "display_data",
          "data": {
            "image/png": "[encoded data removed]",
            "text/plain": [
              "<Figure size 432x432 with 1 Axes>"
            ]
          },
          "metadata": {
            "tags": []
          }
        }
      ]
    },
    {
      "cell_type": "code",
      "metadata": {
        "colab": {
          "base_uri": "https://localhost:8080/"
        },
        "id": "HfrZBvnfgXJJ",
        "outputId": "05d78e90-f9e9-4c6d-ee61-2cfd95afa031"
      },
      "source": [
        "df_train['year'].value_counts()"
      ],
      "execution_count": null,
      "outputs": [
        {
          "output_type": "execute_result",
          "data": {
            "text/plain": [
              "2013    1267553\n",
              "2014    1055853\n",
              "2015     612203\n",
              "Name: year, dtype: int64"
            ]
          },
          "metadata": {
            "tags": []
          },
          "execution_count": 54
        }
      ]
    },
    {
      "cell_type": "code",
      "metadata": {
        "colab": {
          "base_uri": "https://localhost:8080/"
        },
        "id": "Mw4zOm98iA4s",
        "outputId": "e51f7460-9541-4d95-db79-a09cc5acef24"
      },
      "source": [
        "df_train['month'].value_counts()"
      ],
      "execution_count": null,
      "outputs": [
        {
          "output_type": "execute_result",
          "data": {
            "text/plain": [
              "12    295730\n",
              "2     268734\n",
              "3     266509\n",
              "8     259766\n",
              "1     251216\n",
              "7     246337\n",
              "6     238323\n",
              "5     232850\n",
              "4     231059\n",
              "9     224023\n",
              "10    222606\n",
              "11    198456\n",
              "Name: month, dtype: int64"
            ]
          },
          "metadata": {
            "tags": []
          },
          "execution_count": 78
        }
      ]
    },
    {
      "cell_type": "code",
      "metadata": {
        "colab": {
          "base_uri": "https://localhost:8080/",
          "height": 206
        },
        "id": "IJTbvao0joNY",
        "outputId": "2edb8c36-47c1-4eb2-d64c-f6814cf3ce58"
      },
      "source": [
        "test.head()"
      ],
      "execution_count": null,
      "outputs": [
        {
          "output_type": "execute_result",
          "data": {
            "text/html": [
              "<div>\n",
              "<style scoped>\n",
              "    .dataframe tbody tr th:only-of-type {\n",
              "        vertical-align: middle;\n",
              "    }\n",
              "\n",
              "    .dataframe tbody tr th {\n",
              "        vertical-align: top;\n",
              "    }\n",
              "\n",
              "    .dataframe thead th {\n",
              "        text-align: right;\n",
              "    }\n",
              "</style>\n",
              "<table border=\"1\" class=\"dataframe\">\n",
              "  <thead>\n",
              "    <tr style=\"text-align: right;\">\n",
              "      <th></th>\n",
              "      <th>ID</th>\n",
              "      <th>shop_id</th>\n",
              "      <th>item_id</th>\n",
              "    </tr>\n",
              "  </thead>\n",
              "  <tbody>\n",
              "    <tr>\n",
              "      <th>0</th>\n",
              "      <td>0</td>\n",
              "      <td>5</td>\n",
              "      <td>5037</td>\n",
              "    </tr>\n",
              "    <tr>\n",
              "      <th>1</th>\n",
              "      <td>1</td>\n",
              "      <td>5</td>\n",
              "      <td>5320</td>\n",
              "    </tr>\n",
              "    <tr>\n",
              "      <th>2</th>\n",
              "      <td>2</td>\n",
              "      <td>5</td>\n",
              "      <td>5233</td>\n",
              "    </tr>\n",
              "    <tr>\n",
              "      <th>3</th>\n",
              "      <td>3</td>\n",
              "      <td>5</td>\n",
              "      <td>5232</td>\n",
              "    </tr>\n",
              "    <tr>\n",
              "      <th>4</th>\n",
              "      <td>4</td>\n",
              "      <td>5</td>\n",
              "      <td>5268</td>\n",
              "    </tr>\n",
              "  </tbody>\n",
              "</table>\n",
              "</div>"
            ],
            "text/plain": [
              "   ID  shop_id  item_id\n",
              "0   0        5     5037\n",
              "1   1        5     5320\n",
              "2   2        5     5233\n",
              "3   3        5     5232\n",
              "4   4        5     5268"
            ]
          },
          "metadata": {
            "tags": []
          },
          "execution_count": 79
        }
      ]
    },
    {
      "cell_type": "markdown",
      "metadata": {
        "id": "6kJWNT0EwMNV"
      },
      "source": [
        "sales_train.csv - zestaw treningowy. Dzienne dane historyczne od stycznia 2013 r. do października 2015 r.\r\n",
        "\r\n",
        "test.csv - zestaw testowy. Musisz prognozować sprzedaż dla tych sklepów i produktów na listopad 2015.\r\n",
        "\r\n",
        "sample_submission.csv - przykładowy plik przesyłania w odpowiednim formacie. przedmioty.csv - dodatkowe informacje o produktach/produktach.\r\n",
        "\r\n",
        "item_categories.csv - dodatkowe informacje o kategoriach przedmiotów. sklepy.csv- dodatkowe informacje o sklepach.\r\n",
        "\r\n",
        "Pola danych\r\n",
        "\r\n",
        "ID - identyfikator reprezentujący krotkę (Sklep, Przedmiot) w zestawie testowym\r\n",
        "\r\n",
        "shop_id - unikalny identyfikator sklepu\r\n",
        "\r\n",
        "item_id - unikatowy identyfikator produktu\r\n",
        "\r\n",
        "item_category_id - unikatowy identyfikator kategorii towaru\r\n",
        "\r\n",
        "item_cnt_day - liczba sprzedanych produktów. Przewidujesz miesięczną kwotę tej miary\r\n",
        "\r\n",
        "item_price - aktualna cena towaru\r\n",
        "\r\n",
        "data - data w formacie dd/mm/yyyy\r\n",
        "\r\n",
        "date_block_num - kolejny numer miesiąca, używany dla wygody. Styczeń 2013 jest 0, luty 2013 jest 1,..., październiku 2015 jest 33\r\n",
        "\r\n",
        "item_name - nazwa przedmiotu\r\n",
        "\r\n",
        "shop_name - nazwa sklepu\r\n",
        "\r\n",
        "item_category_name - nazwa kategorii towaru\r\n",
        "sales_train.csv - zestaw treningowy. Dzienne dane historyczne od stycznia 2013 r. do października 2015 r.\r\n",
        "\r\n",
        "test.csv - zestaw testowy. Musisz prognozować sprzedaż dla tych sklepów i produktów na listopad 2015.\r\n",
        "\r\n",
        "sample_submission.csv - przykładowy plik przesyłania w odpowiednim formacie. przedmioty.csv - dodatkowe informacje o produktach/produktach.\r\n",
        "\r\n",
        "item_categories.csv - dodatkowe informacje o kategoriach przedmiotów. sklepy.csv- dodatkowe informacje o sklepach.\r\n",
        "\r\n",
        "Pola danych\r\n",
        "\r\n",
        "ID - identyfikator reprezentujący krotkę (Sklep, Przedmiot) w zestawie testowym\r\n",
        "\r\n",
        "shop_id - unikalny identyfikator sklepu\r\n",
        "\r\n",
        "item_id - unikatowy identyfikator produktu\r\n",
        "\r\n",
        "item_category_id - unikatowy identyfikator kategorii towaru\r\n",
        "\r\n",
        "item_cnt_day - liczba sprzedanych produktów. Przewidujesz miesięczną kwotę tej miary\r\n",
        "\r\n",
        "item_price - aktualna cena towaru\r\n",
        "\r\n",
        "data - data w formacie dd/mm/yyyy\r\n",
        "\r\n",
        "date_block_num - kolejny numer miesiąca, używany dla wygody. Styczeń 2013 jest 0, luty 2013 jest 1,..., październiku 2015 jest 33\r\n",
        "\r\n",
        "item_name - nazwa przedmiotu\r\n",
        "\r\n",
        "shop_name - nazwa sklepu\r\n",
        "\r\n",
        "item_category_name - nazwa kategorii towaru\r\n",
        "sales_train.csv - zestaw treningowy. Dzienne dane historyczne od stycznia 2013 r. do października 2015 r.\r\n",
        "\r\n",
        "test.csv - zestaw testowy. Musisz prognozować sprzedaż dla tych sklepów i produktów na listopad 2015.\r\n",
        "\r\n",
        "sample_submission.csv - przykładowy plik przesyłania w odpowiednim formacie. przedmioty.csv - dodatkowe informacje o produktach/produktach.\r\n",
        "\r\n",
        "item_categories.csv - dodatkowe informacje o kategoriach przedmiotów. sklepy.csv- dodatkowe informacje o sklepach.\r\n",
        "\r\n",
        "Pola danych\r\n",
        "\r\n",
        "ID - identyfikator reprezentujący krotkę (Sklep, Przedmiot) w zestawie testowym\r\n",
        "\r\n",
        "shop_id - unikalny identyfikator sklepu\r\n",
        "\r\n",
        "item_id - unikatowy identyfikator produktu\r\n",
        "\r\n",
        "item_category_id - unikatowy identyfikator kategorii towaru\r\n",
        "\r\n",
        "item_cnt_day - liczba sprzedanych produktów. Przewidujesz miesięczną kwotę tej miary\r\n",
        "\r\n",
        "item_price - aktualna cena towaru\r\n",
        "\r\n",
        "data - data w formacie dd/mm/yyyy\r\n",
        "\r\n",
        "date_block_num - kolejny numer miesiąca, używany dla wygody. Styczeń 2013 jest 0, luty 2013 jest 1,..., październiku 2015 jest 33\r\n",
        "\r\n",
        "item_name - nazwa przedmiotu\r\n",
        "\r\n",
        "shop_name - nazwa sklepu\r\n",
        "\r\n",
        "item_category_name - nazwa kategorii towaru\r\n",
        "hhggffffffffffffffffggggg ug8"
      ]
    },
    {
      "cell_type": "code",
      "metadata": {
        "colab": {
          "base_uri": "https://localhost:8080/",
          "height": 206
        },
        "id": "m3lpLuGUoE_z",
        "outputId": "13780a17-41b2-4cd0-8b10-10f291169ba6"
      },
      "source": [
        "df_train.head()"
      ],
      "execution_count": null,
      "outputs": [
        {
          "output_type": "execute_result",
          "data": {
            "text/html": [
              "<div>\n",
              "<style scoped>\n",
              "    .dataframe tbody tr th:only-of-type {\n",
              "        vertical-align: middle;\n",
              "    }\n",
              "\n",
              "    .dataframe tbody tr th {\n",
              "        vertical-align: top;\n",
              "    }\n",
              "\n",
              "    .dataframe thead th {\n",
              "        text-align: right;\n",
              "    }\n",
              "</style>\n",
              "<table border=\"1\" class=\"dataframe\">\n",
              "  <thead>\n",
              "    <tr style=\"text-align: right;\">\n",
              "      <th></th>\n",
              "      <th>date_block_num</th>\n",
              "      <th>shop_id</th>\n",
              "      <th>item_id</th>\n",
              "      <th>item_price</th>\n",
              "      <th>item_cnt_day</th>\n",
              "      <th>year</th>\n",
              "      <th>month</th>\n",
              "      <th>day</th>\n",
              "    </tr>\n",
              "  </thead>\n",
              "  <tbody>\n",
              "    <tr>\n",
              "      <th>0</th>\n",
              "      <td>0</td>\n",
              "      <td>59</td>\n",
              "      <td>22154</td>\n",
              "      <td>999.00</td>\n",
              "      <td>1.0</td>\n",
              "      <td>2013</td>\n",
              "      <td>2</td>\n",
              "      <td>1</td>\n",
              "    </tr>\n",
              "    <tr>\n",
              "      <th>1</th>\n",
              "      <td>0</td>\n",
              "      <td>25</td>\n",
              "      <td>2552</td>\n",
              "      <td>899.00</td>\n",
              "      <td>1.0</td>\n",
              "      <td>2013</td>\n",
              "      <td>3</td>\n",
              "      <td>1</td>\n",
              "    </tr>\n",
              "    <tr>\n",
              "      <th>2</th>\n",
              "      <td>0</td>\n",
              "      <td>25</td>\n",
              "      <td>2552</td>\n",
              "      <td>899.00</td>\n",
              "      <td>-1.0</td>\n",
              "      <td>2013</td>\n",
              "      <td>5</td>\n",
              "      <td>1</td>\n",
              "    </tr>\n",
              "    <tr>\n",
              "      <th>3</th>\n",
              "      <td>0</td>\n",
              "      <td>25</td>\n",
              "      <td>2554</td>\n",
              "      <td>1709.05</td>\n",
              "      <td>1.0</td>\n",
              "      <td>2013</td>\n",
              "      <td>6</td>\n",
              "      <td>1</td>\n",
              "    </tr>\n",
              "    <tr>\n",
              "      <th>4</th>\n",
              "      <td>0</td>\n",
              "      <td>25</td>\n",
              "      <td>2555</td>\n",
              "      <td>1099.00</td>\n",
              "      <td>1.0</td>\n",
              "      <td>2013</td>\n",
              "      <td>1</td>\n",
              "      <td>15</td>\n",
              "    </tr>\n",
              "  </tbody>\n",
              "</table>\n",
              "</div>"
            ],
            "text/plain": [
              "   date_block_num  shop_id  item_id  item_price  item_cnt_day  year  month  day\n",
              "0               0       59    22154      999.00           1.0  2013      2    1\n",
              "1               0       25     2552      899.00           1.0  2013      3    1\n",
              "2               0       25     2552      899.00          -1.0  2013      5    1\n",
              "3               0       25     2554     1709.05           1.0  2013      6    1\n",
              "4               0       25     2555     1099.00           1.0  2013      1   15"
            ]
          },
          "metadata": {
            "tags": []
          },
          "execution_count": 85
        }
      ]
    },
    {
      "cell_type": "code",
      "metadata": {
        "id": "xYlvKRw-p4Nq"
      },
      "source": [
        "X = df_train['item_cnt_day'].values.reshape(-1,1)\r\n",
        "y = df_train['month'].values.reshape(-1,1)"
      ],
      "execution_count": null,
      "outputs": []
    },
    {
      "cell_type": "code",
      "metadata": {
        "colab": {
          "base_uri": "https://localhost:8080/"
        },
        "id": "nMXTdsstq9aC",
        "outputId": "f7ea1298-7660-4a09-fa76-b5e1b3dda2d4"
      },
      "source": [
        "df_train['index1'] = df_train.index"
      ],
      "execution_count": null,
      "outputs": [
        {
          "output_type": "stream",
          "text": [
            "/usr/local/lib/python3.6/dist-packages/ipykernel_launcher.py:1: SettingWithCopyWarning:\n",
            "\n",
            "\n",
            "A value is trying to be set on a copy of a slice from a DataFrame.\n",
            "Try using .loc[row_indexer,col_indexer] = value instead\n",
            "\n",
            "See the caveats in the documentation: https://pandas.pydata.org/pandas-docs/stable/user_guide/indexing.html#returning-a-view-versus-a-copy\n",
            "\n"
          ],
          "name": "stderr"
        }
      ]
    },
    {
      "cell_type": "code",
      "metadata": {
        "colab": {
          "base_uri": "https://localhost:8080/",
          "height": 206
        },
        "id": "5ySYETfrrDMd",
        "outputId": "f92ed164-0224-4bfc-f244-b3f80a922bce"
      },
      "source": [
        "df_train.head()"
      ],
      "execution_count": null,
      "outputs": [
        {
          "output_type": "execute_result",
          "data": {
            "text/html": [
              "<div>\n",
              "<style scoped>\n",
              "    .dataframe tbody tr th:only-of-type {\n",
              "        vertical-align: middle;\n",
              "    }\n",
              "\n",
              "    .dataframe tbody tr th {\n",
              "        vertical-align: top;\n",
              "    }\n",
              "\n",
              "    .dataframe thead th {\n",
              "        text-align: right;\n",
              "    }\n",
              "</style>\n",
              "<table border=\"1\" class=\"dataframe\">\n",
              "  <thead>\n",
              "    <tr style=\"text-align: right;\">\n",
              "      <th></th>\n",
              "      <th>date_block_num</th>\n",
              "      <th>shop_id</th>\n",
              "      <th>item_id</th>\n",
              "      <th>item_price</th>\n",
              "      <th>item_cnt_day</th>\n",
              "      <th>year</th>\n",
              "      <th>month</th>\n",
              "      <th>day</th>\n",
              "      <th>index1</th>\n",
              "    </tr>\n",
              "  </thead>\n",
              "  <tbody>\n",
              "    <tr>\n",
              "      <th>0</th>\n",
              "      <td>0</td>\n",
              "      <td>59</td>\n",
              "      <td>22154</td>\n",
              "      <td>999.00</td>\n",
              "      <td>1.0</td>\n",
              "      <td>2013</td>\n",
              "      <td>2</td>\n",
              "      <td>1</td>\n",
              "      <td>0</td>\n",
              "    </tr>\n",
              "    <tr>\n",
              "      <th>1</th>\n",
              "      <td>0</td>\n",
              "      <td>25</td>\n",
              "      <td>2552</td>\n",
              "      <td>899.00</td>\n",
              "      <td>1.0</td>\n",
              "      <td>2013</td>\n",
              "      <td>3</td>\n",
              "      <td>1</td>\n",
              "      <td>1</td>\n",
              "    </tr>\n",
              "    <tr>\n",
              "      <th>2</th>\n",
              "      <td>0</td>\n",
              "      <td>25</td>\n",
              "      <td>2552</td>\n",
              "      <td>899.00</td>\n",
              "      <td>-1.0</td>\n",
              "      <td>2013</td>\n",
              "      <td>5</td>\n",
              "      <td>1</td>\n",
              "      <td>2</td>\n",
              "    </tr>\n",
              "    <tr>\n",
              "      <th>3</th>\n",
              "      <td>0</td>\n",
              "      <td>25</td>\n",
              "      <td>2554</td>\n",
              "      <td>1709.05</td>\n",
              "      <td>1.0</td>\n",
              "      <td>2013</td>\n",
              "      <td>6</td>\n",
              "      <td>1</td>\n",
              "      <td>3</td>\n",
              "    </tr>\n",
              "    <tr>\n",
              "      <th>4</th>\n",
              "      <td>0</td>\n",
              "      <td>25</td>\n",
              "      <td>2555</td>\n",
              "      <td>1099.00</td>\n",
              "      <td>1.0</td>\n",
              "      <td>2013</td>\n",
              "      <td>1</td>\n",
              "      <td>15</td>\n",
              "      <td>4</td>\n",
              "    </tr>\n",
              "  </tbody>\n",
              "</table>\n",
              "</div>"
            ],
            "text/plain": [
              "   date_block_num  shop_id  item_id  item_price  ...  year  month  day  index1\n",
              "0               0       59    22154      999.00  ...  2013      2    1       0\n",
              "1               0       25     2552      899.00  ...  2013      3    1       1\n",
              "2               0       25     2552      899.00  ...  2013      5    1       2\n",
              "3               0       25     2554     1709.05  ...  2013      6    1       3\n",
              "4               0       25     2555     1099.00  ...  2013      1   15       4\n",
              "\n",
              "[5 rows x 9 columns]"
            ]
          },
          "metadata": {
            "tags": []
          },
          "execution_count": 100
        }
      ]
    },
    {
      "cell_type": "code",
      "metadata": {
        "colab": {
          "base_uri": "https://localhost:8080/"
        },
        "id": "LMPrsZQ8rKuk",
        "outputId": "2a011852-7642-43ac-a989-e3cb5d1ebea2"
      },
      "source": [
        "df_train.rename(columns = {\"index1\": \"ID\"},  \r\n",
        "          inplace = True) "
      ],
      "execution_count": null,
      "outputs": [
        {
          "output_type": "stream",
          "text": [
            "/usr/local/lib/python3.6/dist-packages/pandas/core/frame.py:4308: SettingWithCopyWarning:\n",
            "\n",
            "\n",
            "A value is trying to be set on a copy of a slice from a DataFrame\n",
            "\n",
            "See the caveats in the documentation: https://pandas.pydata.org/pandas-docs/stable/user_guide/indexing.html#returning-a-view-versus-a-copy\n",
            "\n"
          ],
          "name": "stderr"
        }
      ]
    },
    {
      "cell_type": "code",
      "metadata": {
        "colab": {
          "base_uri": "https://localhost:8080/",
          "height": 206
        },
        "id": "3qxtRWjYrPbg",
        "outputId": "f41f04db-f14d-4bd8-e548-93df8da80962"
      },
      "source": [
        "df_train.head()"
      ],
      "execution_count": null,
      "outputs": [
        {
          "output_type": "execute_result",
          "data": {
            "text/html": [
              "<div>\n",
              "<style scoped>\n",
              "    .dataframe tbody tr th:only-of-type {\n",
              "        vertical-align: middle;\n",
              "    }\n",
              "\n",
              "    .dataframe tbody tr th {\n",
              "        vertical-align: top;\n",
              "    }\n",
              "\n",
              "    .dataframe thead th {\n",
              "        text-align: right;\n",
              "    }\n",
              "</style>\n",
              "<table border=\"1\" class=\"dataframe\">\n",
              "  <thead>\n",
              "    <tr style=\"text-align: right;\">\n",
              "      <th></th>\n",
              "      <th>date_block_num</th>\n",
              "      <th>shop_id</th>\n",
              "      <th>item_id</th>\n",
              "      <th>item_price</th>\n",
              "      <th>item_cnt_day</th>\n",
              "      <th>year</th>\n",
              "      <th>month</th>\n",
              "      <th>day</th>\n",
              "      <th>ID</th>\n",
              "    </tr>\n",
              "  </thead>\n",
              "  <tbody>\n",
              "    <tr>\n",
              "      <th>0</th>\n",
              "      <td>0</td>\n",
              "      <td>59</td>\n",
              "      <td>22154</td>\n",
              "      <td>999.00</td>\n",
              "      <td>1.0</td>\n",
              "      <td>2013</td>\n",
              "      <td>2</td>\n",
              "      <td>1</td>\n",
              "      <td>0</td>\n",
              "    </tr>\n",
              "    <tr>\n",
              "      <th>1</th>\n",
              "      <td>0</td>\n",
              "      <td>25</td>\n",
              "      <td>2552</td>\n",
              "      <td>899.00</td>\n",
              "      <td>1.0</td>\n",
              "      <td>2013</td>\n",
              "      <td>3</td>\n",
              "      <td>1</td>\n",
              "      <td>1</td>\n",
              "    </tr>\n",
              "    <tr>\n",
              "      <th>2</th>\n",
              "      <td>0</td>\n",
              "      <td>25</td>\n",
              "      <td>2552</td>\n",
              "      <td>899.00</td>\n",
              "      <td>-1.0</td>\n",
              "      <td>2013</td>\n",
              "      <td>5</td>\n",
              "      <td>1</td>\n",
              "      <td>2</td>\n",
              "    </tr>\n",
              "    <tr>\n",
              "      <th>3</th>\n",
              "      <td>0</td>\n",
              "      <td>25</td>\n",
              "      <td>2554</td>\n",
              "      <td>1709.05</td>\n",
              "      <td>1.0</td>\n",
              "      <td>2013</td>\n",
              "      <td>6</td>\n",
              "      <td>1</td>\n",
              "      <td>3</td>\n",
              "    </tr>\n",
              "    <tr>\n",
              "      <th>4</th>\n",
              "      <td>0</td>\n",
              "      <td>25</td>\n",
              "      <td>2555</td>\n",
              "      <td>1099.00</td>\n",
              "      <td>1.0</td>\n",
              "      <td>2013</td>\n",
              "      <td>1</td>\n",
              "      <td>15</td>\n",
              "      <td>4</td>\n",
              "    </tr>\n",
              "  </tbody>\n",
              "</table>\n",
              "</div>"
            ],
            "text/plain": [
              "   date_block_num  shop_id  item_id  item_price  ...  year  month  day  ID\n",
              "0               0       59    22154      999.00  ...  2013      2    1   0\n",
              "1               0       25     2552      899.00  ...  2013      3    1   1\n",
              "2               0       25     2552      899.00  ...  2013      5    1   2\n",
              "3               0       25     2554     1709.05  ...  2013      6    1   3\n",
              "4               0       25     2555     1099.00  ...  2013      1   15   4\n",
              "\n",
              "[5 rows x 9 columns]"
            ]
          },
          "metadata": {
            "tags": []
          },
          "execution_count": 102
        }
      ]
    },
    {
      "cell_type": "code",
      "metadata": {
        "colab": {
          "base_uri": "https://localhost:8080/",
          "height": 143
        },
        "id": "SPmEqZKQn2Kg",
        "outputId": "d26f48a7-b04d-4715-adb0-9df8e9c839a4"
      },
      "source": [
        "data=df_train.copy()\r\n",
        "target=data.pop(\"item_id\")\r\n",
        "data.head(3)"
      ],
      "execution_count": null,
      "outputs": [
        {
          "output_type": "execute_result",
          "data": {
            "text/html": [
              "<div>\n",
              "<style scoped>\n",
              "    .dataframe tbody tr th:only-of-type {\n",
              "        vertical-align: middle;\n",
              "    }\n",
              "\n",
              "    .dataframe tbody tr th {\n",
              "        vertical-align: top;\n",
              "    }\n",
              "\n",
              "    .dataframe thead th {\n",
              "        text-align: right;\n",
              "    }\n",
              "</style>\n",
              "<table border=\"1\" class=\"dataframe\">\n",
              "  <thead>\n",
              "    <tr style=\"text-align: right;\">\n",
              "      <th></th>\n",
              "      <th>date_block_num</th>\n",
              "      <th>shop_id</th>\n",
              "      <th>item_price</th>\n",
              "      <th>item_cnt_day</th>\n",
              "      <th>year</th>\n",
              "      <th>month</th>\n",
              "      <th>day</th>\n",
              "      <th>ID</th>\n",
              "    </tr>\n",
              "  </thead>\n",
              "  <tbody>\n",
              "    <tr>\n",
              "      <th>0</th>\n",
              "      <td>0</td>\n",
              "      <td>59</td>\n",
              "      <td>999.0</td>\n",
              "      <td>1.0</td>\n",
              "      <td>2013</td>\n",
              "      <td>2</td>\n",
              "      <td>1</td>\n",
              "      <td>0</td>\n",
              "    </tr>\n",
              "    <tr>\n",
              "      <th>1</th>\n",
              "      <td>0</td>\n",
              "      <td>25</td>\n",
              "      <td>899.0</td>\n",
              "      <td>1.0</td>\n",
              "      <td>2013</td>\n",
              "      <td>3</td>\n",
              "      <td>1</td>\n",
              "      <td>1</td>\n",
              "    </tr>\n",
              "    <tr>\n",
              "      <th>2</th>\n",
              "      <td>0</td>\n",
              "      <td>25</td>\n",
              "      <td>899.0</td>\n",
              "      <td>-1.0</td>\n",
              "      <td>2013</td>\n",
              "      <td>5</td>\n",
              "      <td>1</td>\n",
              "      <td>2</td>\n",
              "    </tr>\n",
              "  </tbody>\n",
              "</table>\n",
              "</div>"
            ],
            "text/plain": [
              "   date_block_num  shop_id  item_price  item_cnt_day  year  month  day  ID\n",
              "0               0       59       999.0           1.0  2013      2    1   0\n",
              "1               0       25       899.0           1.0  2013      3    1   1\n",
              "2               0       25       899.0          -1.0  2013      5    1   2"
            ]
          },
          "metadata": {
            "tags": []
          },
          "execution_count": 103
        }
      ]
    },
    {
      "cell_type": "code",
      "metadata": {
        "id": "Ldu6Xt7KmVEb"
      },
      "source": [
        "from sklearn.model_selection import train_test_split"
      ],
      "execution_count": null,
      "outputs": []
    },
    {
      "cell_type": "code",
      "metadata": {
        "colab": {
          "base_uri": "https://localhost:8080/"
        },
        "id": "WYyY3MIynvif",
        "outputId": "fd077bb8-a66e-4d8c-f99f-45b35833b6bb"
      },
      "source": [
        "X_train, X_test, y_train, y_test= train_test_split(data, target, random_state=42)\r\n",
        "\r\n",
        "print(f'X_train shape {X_train.shape}')\r\n",
        "print(f'y_train shape {y_train.shape}')\r\n",
        "print(f'X_test shape {X_test.shape}')\r\n",
        "print(f'y_test shape {y_test.shape}')\r\n",
        "print(f'\\nTest ratio: {len(X_test) / len(data):.2f}')\r\n",
        "print(f'\\ny_train:\\n{y_train.value_counts()}')\r\n",
        "print(f'\\ny_test:\\n{y_test.value_counts()}')"
      ],
      "execution_count": null,
      "outputs": [
        {
          "output_type": "stream",
          "text": [
            "X_train shape (2201706, 8)\n",
            "y_train shape (2201706,)\n",
            "X_test shape (733903, 8)\n",
            "y_test shape (733903,)\n",
            "\n",
            "Test ratio: 0.25\n",
            "\n",
            "y_train:\n",
            "20949    23457\n",
            "5822      7101\n",
            "17717     6784\n",
            "2808      5630\n",
            "4181      5091\n",
            "         ...  \n",
            "14701        1\n",
            "7666         1\n",
            "5619         1\n",
            "21304        1\n",
            "0            1\n",
            "Name: item_id, Length: 21137, dtype: int64\n",
            "\n",
            "y_test:\n",
            "20949    7883\n",
            "5822     2307\n",
            "17717    2283\n",
            "2808     1849\n",
            "4181     1762\n",
            "         ... \n",
            "7554        1\n",
            "19612       1\n",
            "15913       1\n",
            "6870        1\n",
            "16190       1\n",
            "Name: item_id, Length: 18620, dtype: int64\n"
          ],
          "name": "stdout"
        }
      ]
    },
    {
      "cell_type": "code",
      "metadata": {
        "colab": {
          "base_uri": "https://localhost:8080/"
        },
        "id": "eeCwl9cmosMD",
        "outputId": "32687538-3c61-4694-83be-ebba26730be0"
      },
      "source": [
        "from sklearn.linear_model import LinearRegression\r\n",
        "\r\n",
        "regressor = LinearRegression()\r\n",
        "regressor.fit(X_train, y_train)\r\n",
        "print(f'R2 score: {regressor.score(X_test, y_test):.4f}')"
      ],
      "execution_count": null,
      "outputs": [
        {
          "output_type": "stream",
          "text": [
            "R2 score: 0.0200\n"
          ],
          "name": "stdout"
        }
      ]
    }
  ]
}