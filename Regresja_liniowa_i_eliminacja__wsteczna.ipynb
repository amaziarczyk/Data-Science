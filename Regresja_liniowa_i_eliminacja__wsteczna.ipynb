{
  "nbformat": 4,
  "nbformat_minor": 0,
  "metadata": {
    "colab": {
      "name": "Regresja_liniowa_i_eliminacja _wsteczna.ipynb",
      "provenance": [],
      "mount_file_id": "1T1boNdA6hTPTQLxdCIGelXo8E4vzbRP2",
      "authorship_tag": "ABX9TyPjkYX4ro9Q1hS+CGMpAGi9",
      "include_colab_link": true
    },
    "kernelspec": {
      "name": "python3",
      "display_name": "Python 3"
    }
  },
  "cells": [
    {
      "cell_type": "markdown",
      "metadata": {
        "id": "view-in-github",
        "colab_type": "text"
      },
      "source": [
        "<a href=\"https://colab.research.google.com/github/amaziarczyk/Data-Science/blob/main/Regresja_liniowa_i_eliminacja__wsteczna.ipynb\" target=\"_parent\"><img src=\"https://colab.research.google.com/assets/colab-badge.svg\" alt=\"Open In Colab\"/></a>"
      ]
    },
    {
      "cell_type": "markdown",
      "metadata": {
        "id": "BtFFcQ3_p0Kv"
      },
      "source": [
        "### <a name='0'></a> Import bibliotek"
      ]
    },
    {
      "cell_type": "code",
      "metadata": {
        "id": "VQ0ieU0UdN5D",
        "colab": {
          "base_uri": "https://localhost:8080/",
          "height": 36
        },
        "outputId": "3d30c02b-a20e-4a62-ab91-67edaa4d64c2"
      },
      "source": [
        "import numpy as np\n",
        "import pandas as pd\n",
        "import matplotlib.pyplot as plt\n",
        "import seaborn as sns\n",
        "import sklearn\n",
        "\n",
        "sns.set()\n",
        "np.random.seed(42)\n",
        "np.set_printoptions(precision=4, suppress=True)\n",
        "sklearn.__version__"
      ],
      "execution_count": null,
      "outputs": [
        {
          "output_type": "execute_result",
          "data": {
            "application/vnd.google.colaboratory.intrinsic+json": {
              "type": "string"
            },
            "text/plain": [
              "'0.22.2.post1'"
            ]
          },
          "metadata": {
            "tags": []
          },
          "execution_count": 1
        }
      ]
    },
    {
      "cell_type": "markdown",
      "metadata": {
        "id": "_hNX_yS6p8EN"
      },
      "source": [
        "### <a name='1'></a> Wczytanie danych"
      ]
    },
    {
      "cell_type": "code",
      "metadata": {
        "id": "UDbWnF8rdceb",
        "colab": {
          "base_uri": "https://localhost:8080/",
          "height": 224
        },
        "outputId": "d2e9917f-7a68-4820-fafd-176709ea37f3"
      },
      "source": [
        "df_raw = pd.read_excel('/content/drive/MyDrive/Artykuł struktura kapitału_python/Zeszyt1.xlsx')\n",
        "df_raw.head()"
      ],
      "execution_count": null,
      "outputs": [
        {
          "output_type": "execute_result",
          "data": {
            "text/html": [
              "<div>\n",
              "<style scoped>\n",
              "    .dataframe tbody tr th:only-of-type {\n",
              "        vertical-align: middle;\n",
              "    }\n",
              "\n",
              "    .dataframe tbody tr th {\n",
              "        vertical-align: top;\n",
              "    }\n",
              "\n",
              "    .dataframe thead th {\n",
              "        text-align: right;\n",
              "    }\n",
              "</style>\n",
              "<table border=\"1\" class=\"dataframe\">\n",
              "  <thead>\n",
              "    <tr style=\"text-align: right;\">\n",
              "      <th></th>\n",
              "      <th>Source.Name.1</th>\n",
              "      <th>sektor</th>\n",
              "      <th>mediana</th>\n",
              "      <th>średnia zadł ogół</th>\n",
              "      <th>podatek</th>\n",
              "      <th>średnia ROA</th>\n",
              "      <th>ln SIZE</th>\n",
              "      <th>wsk rzecz ak trw/ao</th>\n",
              "      <th>wskażnik dywidendy</th>\n",
              "      <th>ryzyko</th>\n",
              "      <th>średnia wsk dźwig fin</th>\n",
              "      <th>Struktura</th>\n",
              "    </tr>\n",
              "  </thead>\n",
              "  <tbody>\n",
              "    <tr>\n",
              "      <th>0</th>\n",
              "      <td>AGORA</td>\n",
              "      <td>usługi</td>\n",
              "      <td>0.54</td>\n",
              "      <td>0.268842</td>\n",
              "      <td>0.629528</td>\n",
              "      <td>0.016473</td>\n",
              "      <td>2.660557</td>\n",
              "      <td>0.808878</td>\n",
              "      <td>0.033130</td>\n",
              "      <td>0.482471</td>\n",
              "      <td>1.366505</td>\n",
              "      <td>0.018795</td>\n",
              "    </tr>\n",
              "    <tr>\n",
              "      <th>1</th>\n",
              "      <td>AMICA</td>\n",
              "      <td>przemysł</td>\n",
              "      <td>0.46</td>\n",
              "      <td>0.591172</td>\n",
              "      <td>0.069862</td>\n",
              "      <td>0.047287</td>\n",
              "      <td>2.625140</td>\n",
              "      <td>0.486058</td>\n",
              "      <td>0.038090</td>\n",
              "      <td>0.198194</td>\n",
              "      <td>2.669319</td>\n",
              "      <td>0.042818</td>\n",
              "    </tr>\n",
              "    <tr>\n",
              "      <th>2</th>\n",
              "      <td>AMREST</td>\n",
              "      <td>usługi</td>\n",
              "      <td>0.54</td>\n",
              "      <td>0.585974</td>\n",
              "      <td>0.125818</td>\n",
              "      <td>0.049117</td>\n",
              "      <td>2.658260</td>\n",
              "      <td>0.864786</td>\n",
              "      <td>0.001041</td>\n",
              "      <td>0.153558</td>\n",
              "      <td>2.451094</td>\n",
              "      <td>0.041059</td>\n",
              "    </tr>\n",
              "    <tr>\n",
              "      <th>3</th>\n",
              "      <td>APATOR</td>\n",
              "      <td>przemysł</td>\n",
              "      <td>0.46</td>\n",
              "      <td>0.407365</td>\n",
              "      <td>0.154644</td>\n",
              "      <td>0.129215</td>\n",
              "      <td>2.561322</td>\n",
              "      <td>0.565156</td>\n",
              "      <td>0.102120</td>\n",
              "      <td>0.035926</td>\n",
              "      <td>1.706892</td>\n",
              "      <td>0.031450</td>\n",
              "    </tr>\n",
              "    <tr>\n",
              "      <th>4</th>\n",
              "      <td>APLISENS</td>\n",
              "      <td>przemysł</td>\n",
              "      <td>0.46</td>\n",
              "      <td>0.091589</td>\n",
              "      <td>0.151960</td>\n",
              "      <td>0.140450</td>\n",
              "      <td>2.435260</td>\n",
              "      <td>1.020143</td>\n",
              "      <td>0.054106</td>\n",
              "      <td>0.001844</td>\n",
              "      <td>1.101638</td>\n",
              "      <td>0.008021</td>\n",
              "    </tr>\n",
              "  </tbody>\n",
              "</table>\n",
              "</div>"
            ],
            "text/plain": [
              "  Source.Name.1    sektor  mediana  ...    ryzyko  średnia wsk dźwig fin  Struktura\n",
              "0         AGORA    usługi     0.54  ...  0.482471               1.366505   0.018795\n",
              "1         AMICA  przemysł     0.46  ...  0.198194               2.669319   0.042818\n",
              "2        AMREST    usługi     0.54  ...  0.153558               2.451094   0.041059\n",
              "3        APATOR  przemysł     0.46  ...  0.035926               1.706892   0.031450\n",
              "4      APLISENS  przemysł     0.46  ...  0.001844               1.101638   0.008021\n",
              "\n",
              "[5 rows x 12 columns]"
            ]
          },
          "metadata": {
            "tags": []
          },
          "execution_count": 3
        }
      ]
    },
    {
      "cell_type": "markdown",
      "metadata": {
        "id": "uk7AjdwKqTTr"
      },
      "source": [
        "### <a name='2'></a> Utworzenie kopii danych"
      ]
    },
    {
      "cell_type": "code",
      "metadata": {
        "id": "uNRwupCCPnlr",
        "colab": {
          "base_uri": "https://localhost:8080/"
        },
        "outputId": "56494a80-2a78-4d39-997a-3da60e7640b2"
      },
      "source": [
        "df = df_raw.copy()\n",
        "df.info()"
      ],
      "execution_count": null,
      "outputs": [
        {
          "output_type": "stream",
          "text": [
            "<class 'pandas.core.frame.DataFrame'>\n",
            "RangeIndex: 147 entries, 0 to 146\n",
            "Data columns (total 12 columns):\n",
            " #   Column                 Non-Null Count  Dtype  \n",
            "---  ------                 --------------  -----  \n",
            " 0   Source.Name.1          147 non-null    object \n",
            " 1   sektor                 147 non-null    object \n",
            " 2   mediana                147 non-null    float64\n",
            " 3   średnia zadł ogół      147 non-null    float64\n",
            " 4   podatek                147 non-null    float64\n",
            " 5   średnia ROA            147 non-null    float64\n",
            " 6   ln SIZE                147 non-null    float64\n",
            " 7   wsk rzecz ak trw/ao    147 non-null    float64\n",
            " 8   wskażnik dywidendy     147 non-null    float64\n",
            " 9   ryzyko                 147 non-null    float64\n",
            " 10  średnia wsk dźwig fin  147 non-null    float64\n",
            " 11  Struktura              147 non-null    float64\n",
            "dtypes: float64(10), object(2)\n",
            "memory usage: 13.9+ KB\n"
          ],
          "name": "stdout"
        }
      ]
    },
    {
      "cell_type": "markdown",
      "metadata": {
        "id": "7nY1rhjEqZ0_"
      },
      "source": [
        "### <a name='3'></a> Eksplorcja i wstępne przygotowanie danych"
      ]
    },
    {
      "cell_type": "code",
      "metadata": {
        "id": "jQIC8-q-ZVsn",
        "colab": {
          "base_uri": "https://localhost:8080/",
          "height": 67
        },
        "outputId": "d7adf77d-1b1c-4057-9315-533039492703"
      },
      "source": [
        "df[df.duplicated()]"
      ],
      "execution_count": null,
      "outputs": [
        {
          "output_type": "execute_result",
          "data": {
            "text/html": [
              "<div>\n",
              "<style scoped>\n",
              "    .dataframe tbody tr th:only-of-type {\n",
              "        vertical-align: middle;\n",
              "    }\n",
              "\n",
              "    .dataframe tbody tr th {\n",
              "        vertical-align: top;\n",
              "    }\n",
              "\n",
              "    .dataframe thead th {\n",
              "        text-align: right;\n",
              "    }\n",
              "</style>\n",
              "<table border=\"1\" class=\"dataframe\">\n",
              "  <thead>\n",
              "    <tr style=\"text-align: right;\">\n",
              "      <th></th>\n",
              "      <th>Source.Name.1</th>\n",
              "      <th>sektor</th>\n",
              "      <th>mediana</th>\n",
              "      <th>średnia zadł ogół</th>\n",
              "      <th>podatek</th>\n",
              "      <th>średnia ROA</th>\n",
              "      <th>ln SIZE</th>\n",
              "      <th>wsk rzecz ak trw/ao</th>\n",
              "      <th>wskażnik dywidendy</th>\n",
              "      <th>ryzyko</th>\n",
              "      <th>średnia wsk dźwig fin</th>\n",
              "      <th>Struktura</th>\n",
              "    </tr>\n",
              "  </thead>\n",
              "  <tbody>\n",
              "  </tbody>\n",
              "</table>\n",
              "</div>"
            ],
            "text/plain": [
              "Empty DataFrame\n",
              "Columns: [Source.Name.1, sektor, mediana, średnia zadł ogół, podatek, średnia ROA, ln SIZE, wsk rzecz ak trw/ao, wskażnik dywidendy, ryzyko, średnia wsk dźwig fin, Struktura]\n",
              "Index: []"
            ]
          },
          "metadata": {
            "tags": []
          },
          "execution_count": 5
        }
      ]
    },
    {
      "cell_type": "code",
      "metadata": {
        "id": "S5xO8MBlQn-B",
        "colab": {
          "base_uri": "https://localhost:8080/"
        },
        "outputId": "0de843aa-e58c-4031-879c-2745d7c99d33"
      },
      "source": [
        "cat_cols = [col for col in df.columns if df[col].dtype == 'O']\n",
        "cat_cols"
      ],
      "execution_count": null,
      "outputs": [
        {
          "output_type": "execute_result",
          "data": {
            "text/plain": [
              "['Source.Name.1', 'sektor']"
            ]
          },
          "metadata": {
            "tags": []
          },
          "execution_count": 6
        }
      ]
    },
    {
      "cell_type": "code",
      "metadata": {
        "id": "nGP8BSp_RJpn",
        "colab": {
          "base_uri": "https://localhost:8080/"
        },
        "outputId": "8cbb5fbf-3cc0-440d-df3a-a978eeb0266e"
      },
      "source": [
        "for col in cat_cols:\n",
        "    df[col] = df[col].astype('category')\n",
        "df.info()"
      ],
      "execution_count": null,
      "outputs": [
        {
          "output_type": "stream",
          "text": [
            "<class 'pandas.core.frame.DataFrame'>\n",
            "RangeIndex: 147 entries, 0 to 146\n",
            "Data columns (total 12 columns):\n",
            " #   Column                 Non-Null Count  Dtype   \n",
            "---  ------                 --------------  -----   \n",
            " 0   Source.Name.1          147 non-null    category\n",
            " 1   sektor                 147 non-null    category\n",
            " 2   mediana                147 non-null    float64 \n",
            " 3   średnia zadł ogół      147 non-null    float64 \n",
            " 4   podatek                147 non-null    float64 \n",
            " 5   średnia ROA            147 non-null    float64 \n",
            " 6   ln SIZE                147 non-null    float64 \n",
            " 7   wsk rzecz ak trw/ao    147 non-null    float64 \n",
            " 8   wskażnik dywidendy     147 non-null    float64 \n",
            " 9   ryzyko                 147 non-null    float64 \n",
            " 10  średnia wsk dźwig fin  147 non-null    float64 \n",
            " 11  Struktura              147 non-null    float64 \n",
            "dtypes: category(2), float64(10)\n",
            "memory usage: 18.3 KB\n"
          ],
          "name": "stdout"
        }
      ]
    },
    {
      "cell_type": "code",
      "metadata": {
        "id": "xDKqHQgiQ-KS",
        "colab": {
          "base_uri": "https://localhost:8080/",
          "height": 363
        },
        "outputId": "715e3b2c-6aeb-4b33-d408-0164cb082b70"
      },
      "source": [
        "df.describe().T"
      ],
      "execution_count": null,
      "outputs": [
        {
          "output_type": "execute_result",
          "data": {
            "text/html": [
              "<div>\n",
              "<style scoped>\n",
              "    .dataframe tbody tr th:only-of-type {\n",
              "        vertical-align: middle;\n",
              "    }\n",
              "\n",
              "    .dataframe tbody tr th {\n",
              "        vertical-align: top;\n",
              "    }\n",
              "\n",
              "    .dataframe thead th {\n",
              "        text-align: right;\n",
              "    }\n",
              "</style>\n",
              "<table border=\"1\" class=\"dataframe\">\n",
              "  <thead>\n",
              "    <tr style=\"text-align: right;\">\n",
              "      <th></th>\n",
              "      <th>count</th>\n",
              "      <th>mean</th>\n",
              "      <th>std</th>\n",
              "      <th>min</th>\n",
              "      <th>25%</th>\n",
              "      <th>50%</th>\n",
              "      <th>75%</th>\n",
              "      <th>max</th>\n",
              "    </tr>\n",
              "  </thead>\n",
              "  <tbody>\n",
              "    <tr>\n",
              "      <th>mediana</th>\n",
              "      <td>147.0</td>\n",
              "      <td>0.486122</td>\n",
              "      <td>0.037644</td>\n",
              "      <td>0.460000</td>\n",
              "      <td>0.460000</td>\n",
              "      <td>0.460000</td>\n",
              "      <td>0.540000</td>\n",
              "      <td>0.540000</td>\n",
              "    </tr>\n",
              "    <tr>\n",
              "      <th>średnia zadł ogół</th>\n",
              "      <td>147.0</td>\n",
              "      <td>0.490188</td>\n",
              "      <td>0.189885</td>\n",
              "      <td>0.091589</td>\n",
              "      <td>0.359132</td>\n",
              "      <td>0.474585</td>\n",
              "      <td>0.592034</td>\n",
              "      <td>1.513936</td>\n",
              "    </tr>\n",
              "    <tr>\n",
              "      <th>podatek</th>\n",
              "      <td>147.0</td>\n",
              "      <td>0.273687</td>\n",
              "      <td>0.641086</td>\n",
              "      <td>0.001157</td>\n",
              "      <td>0.117073</td>\n",
              "      <td>0.169385</td>\n",
              "      <td>0.222351</td>\n",
              "      <td>6.942928</td>\n",
              "    </tr>\n",
              "    <tr>\n",
              "      <th>średnia ROA</th>\n",
              "      <td>147.0</td>\n",
              "      <td>0.032426</td>\n",
              "      <td>0.058864</td>\n",
              "      <td>-0.237710</td>\n",
              "      <td>0.005507</td>\n",
              "      <td>0.039743</td>\n",
              "      <td>0.061134</td>\n",
              "      <td>0.167009</td>\n",
              "    </tr>\n",
              "    <tr>\n",
              "      <th>ln SIZE</th>\n",
              "      <td>147.0</td>\n",
              "      <td>2.563755</td>\n",
              "      <td>0.125509</td>\n",
              "      <td>2.303283</td>\n",
              "      <td>2.468733</td>\n",
              "      <td>2.561136</td>\n",
              "      <td>2.651538</td>\n",
              "      <td>3.000861</td>\n",
              "    </tr>\n",
              "    <tr>\n",
              "      <th>wsk rzecz ak trw/ao</th>\n",
              "      <td>147.0</td>\n",
              "      <td>0.604101</td>\n",
              "      <td>0.452563</td>\n",
              "      <td>0.001196</td>\n",
              "      <td>0.230715</td>\n",
              "      <td>0.565156</td>\n",
              "      <td>0.945867</td>\n",
              "      <td>1.778996</td>\n",
              "    </tr>\n",
              "    <tr>\n",
              "      <th>wskażnik dywidendy</th>\n",
              "      <td>147.0</td>\n",
              "      <td>0.056354</td>\n",
              "      <td>0.066539</td>\n",
              "      <td>0.000000</td>\n",
              "      <td>0.018659</td>\n",
              "      <td>0.045770</td>\n",
              "      <td>0.064634</td>\n",
              "      <td>0.548264</td>\n",
              "    </tr>\n",
              "    <tr>\n",
              "      <th>ryzyko</th>\n",
              "      <td>147.0</td>\n",
              "      <td>0.367895</td>\n",
              "      <td>0.775370</td>\n",
              "      <td>0.001844</td>\n",
              "      <td>0.071887</td>\n",
              "      <td>0.157211</td>\n",
              "      <td>0.343918</td>\n",
              "      <td>7.781722</td>\n",
              "    </tr>\n",
              "    <tr>\n",
              "      <th>średnia wsk dźwig fin</th>\n",
              "      <td>147.0</td>\n",
              "      <td>2.242022</td>\n",
              "      <td>1.400967</td>\n",
              "      <td>-5.590947</td>\n",
              "      <td>1.561740</td>\n",
              "      <td>1.891064</td>\n",
              "      <td>2.551311</td>\n",
              "      <td>9.203893</td>\n",
              "    </tr>\n",
              "    <tr>\n",
              "      <th>Struktura</th>\n",
              "      <td>147.0</td>\n",
              "      <td>0.037570</td>\n",
              "      <td>0.015131</td>\n",
              "      <td>0.008021</td>\n",
              "      <td>0.027885</td>\n",
              "      <td>0.035503</td>\n",
              "      <td>0.046035</td>\n",
              "      <td>0.134787</td>\n",
              "    </tr>\n",
              "  </tbody>\n",
              "</table>\n",
              "</div>"
            ],
            "text/plain": [
              "                       count      mean       std  ...       50%       75%       max\n",
              "mediana                147.0  0.486122  0.037644  ...  0.460000  0.540000  0.540000\n",
              "średnia zadł ogół      147.0  0.490188  0.189885  ...  0.474585  0.592034  1.513936\n",
              "podatek                147.0  0.273687  0.641086  ...  0.169385  0.222351  6.942928\n",
              "średnia ROA            147.0  0.032426  0.058864  ...  0.039743  0.061134  0.167009\n",
              "ln SIZE                147.0  2.563755  0.125509  ...  2.561136  2.651538  3.000861\n",
              "wsk rzecz ak trw/ao    147.0  0.604101  0.452563  ...  0.565156  0.945867  1.778996\n",
              "wskażnik dywidendy     147.0  0.056354  0.066539  ...  0.045770  0.064634  0.548264\n",
              "ryzyko                 147.0  0.367895  0.775370  ...  0.157211  0.343918  7.781722\n",
              "średnia wsk dźwig fin  147.0  2.242022  1.400967  ...  1.891064  2.551311  9.203893\n",
              "Struktura              147.0  0.037570  0.015131  ...  0.035503  0.046035  0.134787\n",
              "\n",
              "[10 rows x 8 columns]"
            ]
          },
          "metadata": {
            "tags": []
          },
          "execution_count": 8
        }
      ]
    },
    {
      "cell_type": "code",
      "metadata": {
        "id": "q9JpDAldRA5a",
        "colab": {
          "base_uri": "https://localhost:8080/",
          "height": 112
        },
        "outputId": "4bd32692-6567-47e9-87c7-26aaf1395ffa"
      },
      "source": [
        "df.describe(include=['category']).T"
      ],
      "execution_count": null,
      "outputs": [
        {
          "output_type": "execute_result",
          "data": {
            "text/html": [
              "<div>\n",
              "<style scoped>\n",
              "    .dataframe tbody tr th:only-of-type {\n",
              "        vertical-align: middle;\n",
              "    }\n",
              "\n",
              "    .dataframe tbody tr th {\n",
              "        vertical-align: top;\n",
              "    }\n",
              "\n",
              "    .dataframe thead th {\n",
              "        text-align: right;\n",
              "    }\n",
              "</style>\n",
              "<table border=\"1\" class=\"dataframe\">\n",
              "  <thead>\n",
              "    <tr style=\"text-align: right;\">\n",
              "      <th></th>\n",
              "      <th>count</th>\n",
              "      <th>unique</th>\n",
              "      <th>top</th>\n",
              "      <th>freq</th>\n",
              "    </tr>\n",
              "  </thead>\n",
              "  <tbody>\n",
              "    <tr>\n",
              "      <th>Source.Name.1</th>\n",
              "      <td>147</td>\n",
              "      <td>147</td>\n",
              "      <td>ZYWIEC</td>\n",
              "      <td>1</td>\n",
              "    </tr>\n",
              "    <tr>\n",
              "      <th>sektor</th>\n",
              "      <td>147</td>\n",
              "      <td>2</td>\n",
              "      <td>przemysł</td>\n",
              "      <td>99</td>\n",
              "    </tr>\n",
              "  </tbody>\n",
              "</table>\n",
              "</div>"
            ],
            "text/plain": [
              "              count unique       top freq\n",
              "Source.Name.1   147    147    ZYWIEC    1\n",
              "sektor          147      2  przemysł   99"
            ]
          },
          "metadata": {
            "tags": []
          },
          "execution_count": 9
        }
      ]
    },
    {
      "cell_type": "code",
      "metadata": {
        "id": "psY97s7MP9N4",
        "colab": {
          "base_uri": "https://localhost:8080/"
        },
        "outputId": "f40d8f8b-c404-4567-ef30-7b367924ad09"
      },
      "source": [
        "df.isnull().sum()"
      ],
      "execution_count": null,
      "outputs": [
        {
          "output_type": "execute_result",
          "data": {
            "text/plain": [
              "Source.Name.1            0\n",
              "sektor                   0\n",
              "mediana                  0\n",
              "średnia zadł ogół        0\n",
              "podatek                  0\n",
              "średnia ROA              0\n",
              "ln SIZE                  0\n",
              "wsk rzecz ak trw/ao      0\n",
              "wskażnik dywidendy       0\n",
              "ryzyko                   0\n",
              "średnia wsk dźwig fin    0\n",
              "Struktura                0\n",
              "dtype: int64"
            ]
          },
          "metadata": {
            "tags": []
          },
          "execution_count": 10
        }
      ]
    },
    {
      "cell_type": "code",
      "metadata": {
        "id": "1GgIerZCQu82",
        "colab": {
          "base_uri": "https://localhost:8080/"
        },
        "outputId": "5366b356-0191-47d1-905d-33e5361e1121"
      },
      "source": [
        "df.sektor.value_counts()"
      ],
      "execution_count": null,
      "outputs": [
        {
          "output_type": "execute_result",
          "data": {
            "text/plain": [
              "przemysł    99\n",
              "usługi      48\n",
              "Name: sektor, dtype: int64"
            ]
          },
          "metadata": {
            "tags": []
          },
          "execution_count": 11
        }
      ]
    },
    {
      "cell_type": "code",
      "metadata": {
        "id": "tP_MCxw6VlwP",
        "colab": {
          "base_uri": "https://localhost:8080/",
          "height": 266
        },
        "outputId": "55968695-b682-4b1d-a208-94072d2f5ae2"
      },
      "source": [
        "df.sektor.value_counts().plot(kind='pie')"
      ],
      "execution_count": null,
      "outputs": [
        {
          "output_type": "execute_result",
          "data": {
            "text/plain": [
              "<matplotlib.axes._subplots.AxesSubplot at 0x7f4279efa828>"
            ]
          },
          "metadata": {
            "tags": []
          },
          "execution_count": 12
        },
        {
          "output_type": "display_data",
          "data": {
            "image/png": "[encoded data removed]",
            "text/plain": [
              "<Figure size 432x288 with 1 Axes>"
            ]
          },
          "metadata": {
            "tags": []
          }
        }
      ]
    },
    {
      "cell_type": "code",
      "metadata": {
        "id": "YKUdze1Yak5l",
        "colab": {
          "base_uri": "https://localhost:8080/",
          "height": 286
        },
        "outputId": "49936fb2-87bb-45df-e3d2-d3bf01ff7635"
      },
      "source": [
        "df.Struktura.plot(kind='hist', bins=30)"
      ],
      "execution_count": null,
      "outputs": [
        {
          "output_type": "execute_result",
          "data": {
            "text/plain": [
              "<matplotlib.axes._subplots.AxesSubplot at 0x7f4279e62d68>"
            ]
          },
          "metadata": {
            "tags": []
          },
          "execution_count": 13
        },
        {
          "output_type": "display_data",
          "data": {
            "image/png": "[encoded data removed]",
            "text/plain": [
              "<Figure size 432x288 with 1 Axes>"
            ]
          },
          "metadata": {
            "tags": [],
            "needs_background": "light"
          }
        }
      ]
    },
    {
      "cell_type": "code",
      "metadata": {
        "id": "R2u7EDvEavZV",
        "colab": {
          "base_uri": "https://localhost:8080/",
          "height": 417
        },
        "outputId": "191004e3-aa49-43c7-c7d1-479010d62378"
      },
      "source": [
        "import plotly.express as px\n",
        "\n",
        "px.histogram(df, x='Struktura', width=700, height=400, nbins=50, facet_col='sektor')"
      ],
      "execution_count": null,
      "outputs": [
        {
          "output_type": "display_data",
          "data": {
            "text/html": [
              "<html>\n",
              "<head><meta charset=\"utf-8\" /></head>\n",
              "<body>\n",
              "    <div>\n",
              "            <script src=\"https://cdnjs.cloudflare.com/ajax/libs/mathjax/2.7.5/MathJax.js?config=TeX-AMS-MML_SVG\"></script><script type=\"text/javascript\">if (window.MathJax) {MathJax.Hub.Config({SVG: {font: \"STIX-Web\"}});}</script>\n",
              "                <script type=\"text/javascript\">window.PlotlyConfig = {MathJaxConfig: 'local'};</script>\n",
              "        <script src=\"https://cdn.plot.ly/plotly-latest.min.js\"></script>    \n",
              "            <div id=\"febf0652-e542-4b0b-9fd2-96177d337eae\" class=\"plotly-graph-div\" style=\"height:400px; width:700px;\"></div>\n",
              "            <script type=\"text/javascript\">\n",
              "                \n",
              "                    window.PLOTLYENV=window.PLOTLYENV || {};\n",
              "                    \n",
              "                if (document.getElementById(\"febf0652-e542-4b0b-9fd2-96177d337eae\")) {\n",
              "                    Plotly.newPlot(\n",
              "                        'febf0652-e542-4b0b-9fd2-96177d337eae',\n",
              "                        [{\"alignmentgroup\": \"True\", \"bingroup\": \"x\", \"hoverlabel\": {\"namelength\": 0}, \"hovertemplate\": \"sektor=us\\u0142ugi<br>Struktura=%{x}<br>count=%{y}\", \"legendgroup\": \"\", \"marker\": {\"color\": \"#636efa\"}, \"name\": \"\", \"nbinsx\": 50, \"offsetgroup\": \"\", \"orientation\": \"v\", \"showlegend\": false, \"type\": \"histogram\", \"x\": [0.018794568032578646, 0.04105919922942006, 0.04217626612143836, 0.060127246942841855, 0.018372859371154668, 0.05088844940852953, 0.03513446395692225, 0.015139286616291239, 0.04694432908993996, 0.06561865242674308, 0.029014750694208485, 0.032087155548525245, 0.03581691221720569, 0.03691971574830641, 0.06263615561724445, 0.03740941640466498, 0.07451679838881181, 0.040968772003161555, 0.009687019733058511, 0.04719739177552438, 0.04683860791558116, 0.024014449613888596, 0.05235196786300419, 0.041522685544565105, 0.04281576179436686, 0.013435397288781813, 0.058309443630890856, 0.02207611468914647, 0.04902743099610935, 0.02722988486723359, 0.012924594483060502, 0.04740153252296795, 0.023891528914204943, 0.019844900884637317, 0.04033209601021401, 0.052357659338708194, 0.03362233405785948, 0.05477455572628144, 0.04422342222361837, 0.13478731764502203, 0.03550255348382749, 0.014925273283314937, 0.053100534935880205, 0.03858229676394515, 0.04986036410676906, 0.0605417864643571, 0.04999194466532118, 0.0233557829229951], \"xaxis\": \"x\", \"yaxis\": \"y\"}, {\"alignmentgroup\": \"True\", \"bingroup\": \"x\", \"hoverlabel\": {\"namelength\": 0}, \"hovertemplate\": \"sektor=przemys\\u0142<br>Struktura=%{x}<br>count=%{y}\", \"legendgroup\": \"\", \"marker\": {\"color\": \"#636efa\"}, \"name\": \"\", \"nbinsx\": 50, \"offsetgroup\": \"\", \"orientation\": \"v\", \"showlegend\": false, \"type\": \"histogram\", \"x\": [0.04281833348718989, 0.031449663473681125, 0.008020897442198277, 0.040836325306830235, 0.01927998565661031, 0.037936810691668224, 0.043483137809835426, 0.02303455665834433, 0.06123979561277714, 0.021516953427849927, 0.021685180078241325, 0.023083081797650458, 0.038629120842537314, 0.055404511983091626, 0.0316545023328639, 0.028271570934641287, 0.04664424689950325, 0.051723646852880015, 0.030545475474867287, 0.027156650614022323, 0.03518742640920797, 0.03518742640920797, 0.04092422678227949, 0.033466765963325214, 0.03296575707791961, 0.04056811094049289, 0.018941087652869303, 0.03962807997983253, 0.05028258797238678, 0.04312485319544619, 0.01958434131001635, 0.05328809449889438, 0.0449897653435057, 0.027843747722435825, 0.037925088263374374, 0.04096260438202782, 0.04984310237853564, 0.027926775603090283, 0.050513494429830254, 0.04052249511877518, 0.04091481309944018, 0.023126894163634983, 0.04605183742546051, 0.0346779284061696, 0.041493449235105194, 0.035118220365839, 0.027300546750630775, 0.02015047510348233, 0.029135958065814215, 0.040169005572406054, 0.031547356924128335, 0.031932537263862, 0.03216132314323976, 0.03161328889664488, 0.04024591397979959, 0.06842710984698697, 0.02302995411326418, 0.041522685544565105, 0.04259052097299359, 0.05397705142876299, 0.02687187980608411, 0.02687187980608411, 0.05357494937317709, 0.06003483125582804, 0.04354240606177109, 0.034634095599252214, 0.017925277699989323, 0.019677809856728217, 0.02912726788916525, 0.035455682814975145, 0.032010891860703335, 0.048533718594465425, 0.02594142749826684, 0.034760688828397814, 0.023872886441577396, 0.046017259408605064, 0.04234789802255171, 0.03939571436941566, 0.0500694876518356, 0.029103809242946747, 0.03511092290413188, 0.025875544543786943, 0.03428466230512053, 0.03374319123993695, 0.0306217689739042, 0.019434685343619314, 0.0524751493971952, 0.03253154722748024, 0.03071651026067457, 0.019928380818562495, 0.03558416921843466, 0.02896508855344548, 0.04051179923589987, 0.026368512534747472, 0.05591009605133669, 0.034204378167271704, 0.032350733391071, 0.029362982971789322, 0.05359364952376754], \"xaxis\": \"x2\", \"yaxis\": \"y2\"}],\n",
              "                        {\"annotations\": [{\"font\": {}, \"showarrow\": false, \"text\": \"sektor=us\\u0142ugi\", \"x\": 0.245, \"xanchor\": \"center\", \"xref\": \"paper\", \"y\": 1.0, \"yanchor\": \"bottom\", \"yref\": \"paper\"}, {\"font\": {}, \"showarrow\": false, \"text\": \"sektor=przemys\\u0142\", \"x\": 0.755, \"xanchor\": \"center\", \"xref\": \"paper\", \"y\": 1.0, \"yanchor\": \"bottom\", \"yref\": \"paper\"}], \"barmode\": \"relative\", \"height\": 400, \"legend\": {\"tracegroupgap\": 0}, \"margin\": {\"t\": 60}, \"template\": {\"data\": {\"bar\": [{\"error_x\": {\"color\": \"#2a3f5f\"}, \"error_y\": {\"color\": \"#2a3f5f\"}, \"marker\": {\"line\": {\"color\": \"#E5ECF6\", \"width\": 0.5}}, \"type\": \"bar\"}], \"barpolar\": [{\"marker\": {\"line\": {\"color\": \"#E5ECF6\", \"width\": 0.5}}, \"type\": \"barpolar\"}], \"carpet\": [{\"aaxis\": {\"endlinecolor\": \"#2a3f5f\", \"gridcolor\": \"white\", \"linecolor\": \"white\", \"minorgridcolor\": \"white\", \"startlinecolor\": \"#2a3f5f\"}, \"baxis\": {\"endlinecolor\": \"#2a3f5f\", \"gridcolor\": \"white\", \"linecolor\": \"white\", \"minorgridcolor\": \"white\", \"startlinecolor\": \"#2a3f5f\"}, \"type\": \"carpet\"}], \"choropleth\": [{\"colorbar\": {\"outlinewidth\": 0, \"ticks\": \"\"}, \"type\": \"choropleth\"}], \"contour\": [{\"colorbar\": {\"outlinewidth\": 0, \"ticks\": \"\"}, \"colorscale\": [[0.0, \"#0d0887\"], [0.1111111111111111, \"#46039f\"], [0.2222222222222222, \"#7201a8\"], [0.3333333333333333, \"#9c179e\"], [0.4444444444444444, \"#bd3786\"], [0.5555555555555556, \"#d8576b\"], [0.6666666666666666, \"#ed7953\"], [0.7777777777777778, \"#fb9f3a\"], [0.8888888888888888, \"#fdca26\"], [1.0, \"#f0f921\"]], \"type\": \"contour\"}], \"contourcarpet\": [{\"colorbar\": {\"outlinewidth\": 0, \"ticks\": \"\"}, \"type\": \"contourcarpet\"}], \"heatmap\": [{\"colorbar\": {\"outlinewidth\": 0, \"ticks\": \"\"}, \"colorscale\": [[0.0, \"#0d0887\"], [0.1111111111111111, \"#46039f\"], [0.2222222222222222, \"#7201a8\"], [0.3333333333333333, \"#9c179e\"], [0.4444444444444444, \"#bd3786\"], [0.5555555555555556, \"#d8576b\"], [0.6666666666666666, \"#ed7953\"], [0.7777777777777778, \"#fb9f3a\"], [0.8888888888888888, \"#fdca26\"], [1.0, \"#f0f921\"]], \"type\": \"heatmap\"}], \"heatmapgl\": [{\"colorbar\": {\"outlinewidth\": 0, \"ticks\": \"\"}, \"colorscale\": [[0.0, \"#0d0887\"], [0.1111111111111111, \"#46039f\"], [0.2222222222222222, \"#7201a8\"], [0.3333333333333333, \"#9c179e\"], [0.4444444444444444, \"#bd3786\"], [0.5555555555555556, \"#d8576b\"], [0.6666666666666666, \"#ed7953\"], [0.7777777777777778, \"#fb9f3a\"], [0.8888888888888888, \"#fdca26\"], [1.0, \"#f0f921\"]], \"type\": \"heatmapgl\"}], \"histogram\": [{\"marker\": {\"colorbar\": {\"outlinewidth\": 0, \"ticks\": \"\"}}, \"type\": \"histogram\"}], \"histogram2d\": [{\"colorbar\": {\"outlinewidth\": 0, \"ticks\": \"\"}, \"colorscale\": [[0.0, \"#0d0887\"], [0.1111111111111111, \"#46039f\"], [0.2222222222222222, \"#7201a8\"], [0.3333333333333333, \"#9c179e\"], [0.4444444444444444, \"#bd3786\"], [0.5555555555555556, \"#d8576b\"], [0.6666666666666666, \"#ed7953\"], [0.7777777777777778, \"#fb9f3a\"], [0.8888888888888888, \"#fdca26\"], [1.0, \"#f0f921\"]], \"type\": \"histogram2d\"}], \"histogram2dcontour\": [{\"colorbar\": {\"outlinewidth\": 0, \"ticks\": \"\"}, \"colorscale\": [[0.0, \"#0d0887\"], [0.1111111111111111, \"#46039f\"], [0.2222222222222222, \"#7201a8\"], [0.3333333333333333, \"#9c179e\"], [0.4444444444444444, \"#bd3786\"], [0.5555555555555556, \"#d8576b\"], [0.6666666666666666, \"#ed7953\"], [0.7777777777777778, \"#fb9f3a\"], [0.8888888888888888, \"#fdca26\"], [1.0, \"#f0f921\"]], \"type\": \"histogram2dcontour\"}], \"mesh3d\": [{\"colorbar\": {\"outlinewidth\": 0, \"ticks\": \"\"}, \"type\": \"mesh3d\"}], \"parcoords\": [{\"line\": {\"colorbar\": {\"outlinewidth\": 0, \"ticks\": \"\"}}, \"type\": \"parcoords\"}], \"pie\": [{\"automargin\": true, \"type\": \"pie\"}], \"scatter\": [{\"marker\": {\"colorbar\": {\"outlinewidth\": 0, \"ticks\": \"\"}}, \"type\": \"scatter\"}], \"scatter3d\": [{\"line\": {\"colorbar\": {\"outlinewidth\": 0, \"ticks\": \"\"}}, \"marker\": {\"colorbar\": {\"outlinewidth\": 0, \"ticks\": \"\"}}, \"type\": \"scatter3d\"}], \"scattercarpet\": [{\"marker\": {\"colorbar\": {\"outlinewidth\": 0, \"ticks\": \"\"}}, \"type\": \"scattercarpet\"}], \"scattergeo\": [{\"marker\": {\"colorbar\": {\"outlinewidth\": 0, \"ticks\": \"\"}}, \"type\": \"scattergeo\"}], \"scattergl\": [{\"marker\": {\"colorbar\": {\"outlinewidth\": 0, \"ticks\": \"\"}}, \"type\": \"scattergl\"}], \"scattermapbox\": [{\"marker\": {\"colorbar\": {\"outlinewidth\": 0, \"ticks\": \"\"}}, \"type\": \"scattermapbox\"}], \"scatterpolar\": [{\"marker\": {\"colorbar\": {\"outlinewidth\": 0, \"ticks\": \"\"}}, \"type\": \"scatterpolar\"}], \"scatterpolargl\": [{\"marker\": {\"colorbar\": {\"outlinewidth\": 0, \"ticks\": \"\"}}, \"type\": \"scatterpolargl\"}], \"scatterternary\": [{\"marker\": {\"colorbar\": {\"outlinewidth\": 0, \"ticks\": \"\"}}, \"type\": \"scatterternary\"}], \"surface\": [{\"colorbar\": {\"outlinewidth\": 0, \"ticks\": \"\"}, \"colorscale\": [[0.0, \"#0d0887\"], [0.1111111111111111, \"#46039f\"], [0.2222222222222222, \"#7201a8\"], [0.3333333333333333, \"#9c179e\"], [0.4444444444444444, \"#bd3786\"], [0.5555555555555556, \"#d8576b\"], [0.6666666666666666, \"#ed7953\"], [0.7777777777777778, \"#fb9f3a\"], [0.8888888888888888, \"#fdca26\"], [1.0, \"#f0f921\"]], \"type\": \"surface\"}], \"table\": [{\"cells\": {\"fill\": {\"color\": \"#EBF0F8\"}, \"line\": {\"color\": \"white\"}}, \"header\": {\"fill\": {\"color\": \"#C8D4E3\"}, \"line\": {\"color\": \"white\"}}, \"type\": \"table\"}]}, \"layout\": {\"annotationdefaults\": {\"arrowcolor\": \"#2a3f5f\", \"arrowhead\": 0, \"arrowwidth\": 1}, \"coloraxis\": {\"colorbar\": {\"outlinewidth\": 0, \"ticks\": \"\"}}, \"colorscale\": {\"diverging\": [[0, \"#8e0152\"], [0.1, \"#c51b7d\"], [0.2, \"#de77ae\"], [0.3, \"#f1b6da\"], [0.4, \"#fde0ef\"], [0.5, \"#f7f7f7\"], [0.6, \"#e6f5d0\"], [0.7, \"#b8e186\"], [0.8, \"#7fbc41\"], [0.9, \"#4d9221\"], [1, \"#276419\"]], \"sequential\": [[0.0, \"#0d0887\"], [0.1111111111111111, \"#46039f\"], [0.2222222222222222, \"#7201a8\"], [0.3333333333333333, \"#9c179e\"], [0.4444444444444444, \"#bd3786\"], [0.5555555555555556, \"#d8576b\"], [0.6666666666666666, \"#ed7953\"], [0.7777777777777778, \"#fb9f3a\"], [0.8888888888888888, \"#fdca26\"], [1.0, \"#f0f921\"]], \"sequentialminus\": [[0.0, \"#0d0887\"], [0.1111111111111111, \"#46039f\"], [0.2222222222222222, \"#7201a8\"], [0.3333333333333333, \"#9c179e\"], [0.4444444444444444, \"#bd3786\"], [0.5555555555555556, \"#d8576b\"], [0.6666666666666666, \"#ed7953\"], [0.7777777777777778, \"#fb9f3a\"], [0.8888888888888888, \"#fdca26\"], [1.0, \"#f0f921\"]]}, \"colorway\": [\"#636efa\", \"#EF553B\", \"#00cc96\", \"#ab63fa\", \"#FFA15A\", \"#19d3f3\", \"#FF6692\", \"#B6E880\", \"#FF97FF\", \"#FECB52\"], \"font\": {\"color\": \"#2a3f5f\"}, \"geo\": {\"bgcolor\": \"white\", \"lakecolor\": \"white\", \"landcolor\": \"#E5ECF6\", \"showlakes\": true, \"showland\": true, \"subunitcolor\": \"white\"}, \"hoverlabel\": {\"align\": \"left\"}, \"hovermode\": \"closest\", \"mapbox\": {\"style\": \"light\"}, \"paper_bgcolor\": \"white\", \"plot_bgcolor\": \"#E5ECF6\", \"polar\": {\"angularaxis\": {\"gridcolor\": \"white\", \"linecolor\": \"white\", \"ticks\": \"\"}, \"bgcolor\": \"#E5ECF6\", \"radialaxis\": {\"gridcolor\": \"white\", \"linecolor\": \"white\", \"ticks\": \"\"}}, \"scene\": {\"xaxis\": {\"backgroundcolor\": \"#E5ECF6\", \"gridcolor\": \"white\", \"gridwidth\": 2, \"linecolor\": \"white\", \"showbackground\": true, \"ticks\": \"\", \"zerolinecolor\": \"white\"}, \"yaxis\": {\"backgroundcolor\": \"#E5ECF6\", \"gridcolor\": \"white\", \"gridwidth\": 2, \"linecolor\": \"white\", \"showbackground\": true, \"ticks\": \"\", \"zerolinecolor\": \"white\"}, \"zaxis\": {\"backgroundcolor\": \"#E5ECF6\", \"gridcolor\": \"white\", \"gridwidth\": 2, \"linecolor\": \"white\", \"showbackground\": true, \"ticks\": \"\", \"zerolinecolor\": \"white\"}}, \"shapedefaults\": {\"line\": {\"color\": \"#2a3f5f\"}}, \"ternary\": {\"aaxis\": {\"gridcolor\": \"white\", \"linecolor\": \"white\", \"ticks\": \"\"}, \"baxis\": {\"gridcolor\": \"white\", \"linecolor\": \"white\", \"ticks\": \"\"}, \"bgcolor\": \"#E5ECF6\", \"caxis\": {\"gridcolor\": \"white\", \"linecolor\": \"white\", \"ticks\": \"\"}}, \"title\": {\"x\": 0.05}, \"xaxis\": {\"automargin\": true, \"gridcolor\": \"white\", \"linecolor\": \"white\", \"ticks\": \"\", \"title\": {\"standoff\": 15}, \"zerolinecolor\": \"white\", \"zerolinewidth\": 2}, \"yaxis\": {\"automargin\": true, \"gridcolor\": \"white\", \"linecolor\": \"white\", \"ticks\": \"\", \"title\": {\"standoff\": 15}, \"zerolinecolor\": \"white\", \"zerolinewidth\": 2}}}, \"width\": 700, \"xaxis\": {\"anchor\": \"y\", \"domain\": [0.0, 0.49], \"title\": {\"text\": \"Struktura\"}}, \"xaxis2\": {\"anchor\": \"y2\", \"domain\": [0.51, 1.0], \"matches\": \"x\", \"title\": {\"text\": \"Struktura\"}}, \"yaxis\": {\"anchor\": \"x\", \"domain\": [0.0, 1.0], \"title\": {\"text\": \"count\"}}, \"yaxis2\": {\"anchor\": \"x2\", \"domain\": [0.0, 1.0], \"matches\": \"y\", \"showticklabels\": false}},\n",
              "                        {\"responsive\": true}\n",
              "                    ).then(function(){\n",
              "                            \n",
              "var gd = document.getElementById('febf0652-e542-4b0b-9fd2-96177d337eae');\n",
              "var x = new MutationObserver(function (mutations, observer) {{\n",
              "        var display = window.getComputedStyle(gd).display;\n",
              "        if (!display || display === 'none') {{\n",
              "            console.log([gd, 'removed!']);\n",
              "            Plotly.purge(gd);\n",
              "            observer.disconnect();\n",
              "        }}\n",
              "}});\n",
              "\n",
              "// Listen for the removal of the full notebook cells\n",
              "var notebookContainer = gd.closest('#notebook-container');\n",
              "if (notebookContainer) {{\n",
              "    x.observe(notebookContainer, {childList: true});\n",
              "}}\n",
              "\n",
              "// Listen for the clearing of the current output cell\n",
              "var outputEl = gd.closest('.output');\n",
              "if (outputEl) {{\n",
              "    x.observe(outputEl, {childList: true});\n",
              "}}\n",
              "\n",
              "                        })\n",
              "                };\n",
              "                \n",
              "            </script>\n",
              "        </div>\n",
              "</body>\n",
              "</html>"
            ]
          },
          "metadata": {
            "tags": []
          }
        }
      ]
    },
    {
      "cell_type": "code",
      "metadata": {
        "colab": {
          "base_uri": "https://localhost:8080/",
          "height": 206
        },
        "id": "4kl26raEF5Ih",
        "outputId": "d34b4ba9-e1d1-40c8-e771-19b1023ea037"
      },
      "source": [
        "df=df.drop(columns='Source.Name.1', axis=1)\r\n",
        "df.head()"
      ],
      "execution_count": null,
      "outputs": [
        {
          "output_type": "execute_result",
          "data": {
            "text/html": [
              "<div>\n",
              "<style scoped>\n",
              "    .dataframe tbody tr th:only-of-type {\n",
              "        vertical-align: middle;\n",
              "    }\n",
              "\n",
              "    .dataframe tbody tr th {\n",
              "        vertical-align: top;\n",
              "    }\n",
              "\n",
              "    .dataframe thead th {\n",
              "        text-align: right;\n",
              "    }\n",
              "</style>\n",
              "<table border=\"1\" class=\"dataframe\">\n",
              "  <thead>\n",
              "    <tr style=\"text-align: right;\">\n",
              "      <th></th>\n",
              "      <th>sektor</th>\n",
              "      <th>mediana</th>\n",
              "      <th>średnia zadł ogół</th>\n",
              "      <th>podatek</th>\n",
              "      <th>średnia ROA</th>\n",
              "      <th>ln SIZE</th>\n",
              "      <th>wsk rzecz ak trw/ao</th>\n",
              "      <th>wskażnik dywidendy</th>\n",
              "      <th>ryzyko</th>\n",
              "      <th>średnia wsk dźwig fin</th>\n",
              "      <th>Struktura</th>\n",
              "    </tr>\n",
              "  </thead>\n",
              "  <tbody>\n",
              "    <tr>\n",
              "      <th>0</th>\n",
              "      <td>usługi</td>\n",
              "      <td>0.54</td>\n",
              "      <td>0.268842</td>\n",
              "      <td>0.629528</td>\n",
              "      <td>0.016473</td>\n",
              "      <td>2.660557</td>\n",
              "      <td>0.808878</td>\n",
              "      <td>0.033130</td>\n",
              "      <td>0.482471</td>\n",
              "      <td>1.366505</td>\n",
              "      <td>0.018795</td>\n",
              "    </tr>\n",
              "    <tr>\n",
              "      <th>1</th>\n",
              "      <td>przemysł</td>\n",
              "      <td>0.46</td>\n",
              "      <td>0.591172</td>\n",
              "      <td>0.069862</td>\n",
              "      <td>0.047287</td>\n",
              "      <td>2.625140</td>\n",
              "      <td>0.486058</td>\n",
              "      <td>0.038090</td>\n",
              "      <td>0.198194</td>\n",
              "      <td>2.669319</td>\n",
              "      <td>0.042818</td>\n",
              "    </tr>\n",
              "    <tr>\n",
              "      <th>2</th>\n",
              "      <td>usługi</td>\n",
              "      <td>0.54</td>\n",
              "      <td>0.585974</td>\n",
              "      <td>0.125818</td>\n",
              "      <td>0.049117</td>\n",
              "      <td>2.658260</td>\n",
              "      <td>0.864786</td>\n",
              "      <td>0.001041</td>\n",
              "      <td>0.153558</td>\n",
              "      <td>2.451094</td>\n",
              "      <td>0.041059</td>\n",
              "    </tr>\n",
              "    <tr>\n",
              "      <th>3</th>\n",
              "      <td>przemysł</td>\n",
              "      <td>0.46</td>\n",
              "      <td>0.407365</td>\n",
              "      <td>0.154644</td>\n",
              "      <td>0.129215</td>\n",
              "      <td>2.561322</td>\n",
              "      <td>0.565156</td>\n",
              "      <td>0.102120</td>\n",
              "      <td>0.035926</td>\n",
              "      <td>1.706892</td>\n",
              "      <td>0.031450</td>\n",
              "    </tr>\n",
              "    <tr>\n",
              "      <th>4</th>\n",
              "      <td>przemysł</td>\n",
              "      <td>0.46</td>\n",
              "      <td>0.091589</td>\n",
              "      <td>0.151960</td>\n",
              "      <td>0.140450</td>\n",
              "      <td>2.435260</td>\n",
              "      <td>1.020143</td>\n",
              "      <td>0.054106</td>\n",
              "      <td>0.001844</td>\n",
              "      <td>1.101638</td>\n",
              "      <td>0.008021</td>\n",
              "    </tr>\n",
              "  </tbody>\n",
              "</table>\n",
              "</div>"
            ],
            "text/plain": [
              "     sektor  mediana  ...  średnia wsk dźwig fin  Struktura\n",
              "0    usługi     0.54  ...               1.366505   0.018795\n",
              "1  przemysł     0.46  ...               2.669319   0.042818\n",
              "2    usługi     0.54  ...               2.451094   0.041059\n",
              "3  przemysł     0.46  ...               1.706892   0.031450\n",
              "4  przemysł     0.46  ...               1.101638   0.008021\n",
              "\n",
              "[5 rows x 11 columns]"
            ]
          },
          "metadata": {
            "tags": []
          },
          "execution_count": 16
        }
      ]
    },
    {
      "cell_type": "code",
      "metadata": {
        "id": "73J84b-oS5Nc",
        "colab": {
          "base_uri": "https://localhost:8080/",
          "height": 224
        },
        "outputId": "e43497ce-9742-463d-93f4-171a4fb83ff2"
      },
      "source": [
        "df_dummies = pd.get_dummies(df, drop_first=True)\n",
        "df_dummies.head()"
      ],
      "execution_count": null,
      "outputs": [
        {
          "output_type": "execute_result",
          "data": {
            "text/html": [
              "<div>\n",
              "<style scoped>\n",
              "    .dataframe tbody tr th:only-of-type {\n",
              "        vertical-align: middle;\n",
              "    }\n",
              "\n",
              "    .dataframe tbody tr th {\n",
              "        vertical-align: top;\n",
              "    }\n",
              "\n",
              "    .dataframe thead th {\n",
              "        text-align: right;\n",
              "    }\n",
              "</style>\n",
              "<table border=\"1\" class=\"dataframe\">\n",
              "  <thead>\n",
              "    <tr style=\"text-align: right;\">\n",
              "      <th></th>\n",
              "      <th>mediana</th>\n",
              "      <th>średnia zadł ogół</th>\n",
              "      <th>podatek</th>\n",
              "      <th>średnia ROA</th>\n",
              "      <th>ln SIZE</th>\n",
              "      <th>wsk rzecz ak trw/ao</th>\n",
              "      <th>wskażnik dywidendy</th>\n",
              "      <th>ryzyko</th>\n",
              "      <th>średnia wsk dźwig fin</th>\n",
              "      <th>Struktura</th>\n",
              "      <th>sektor_usługi</th>\n",
              "    </tr>\n",
              "  </thead>\n",
              "  <tbody>\n",
              "    <tr>\n",
              "      <th>0</th>\n",
              "      <td>0.54</td>\n",
              "      <td>0.268842</td>\n",
              "      <td>0.629528</td>\n",
              "      <td>0.016473</td>\n",
              "      <td>2.660557</td>\n",
              "      <td>0.808878</td>\n",
              "      <td>0.033130</td>\n",
              "      <td>0.482471</td>\n",
              "      <td>1.366505</td>\n",
              "      <td>0.018795</td>\n",
              "      <td>1</td>\n",
              "    </tr>\n",
              "    <tr>\n",
              "      <th>1</th>\n",
              "      <td>0.46</td>\n",
              "      <td>0.591172</td>\n",
              "      <td>0.069862</td>\n",
              "      <td>0.047287</td>\n",
              "      <td>2.625140</td>\n",
              "      <td>0.486058</td>\n",
              "      <td>0.038090</td>\n",
              "      <td>0.198194</td>\n",
              "      <td>2.669319</td>\n",
              "      <td>0.042818</td>\n",
              "      <td>0</td>\n",
              "    </tr>\n",
              "    <tr>\n",
              "      <th>2</th>\n",
              "      <td>0.54</td>\n",
              "      <td>0.585974</td>\n",
              "      <td>0.125818</td>\n",
              "      <td>0.049117</td>\n",
              "      <td>2.658260</td>\n",
              "      <td>0.864786</td>\n",
              "      <td>0.001041</td>\n",
              "      <td>0.153558</td>\n",
              "      <td>2.451094</td>\n",
              "      <td>0.041059</td>\n",
              "      <td>1</td>\n",
              "    </tr>\n",
              "    <tr>\n",
              "      <th>3</th>\n",
              "      <td>0.46</td>\n",
              "      <td>0.407365</td>\n",
              "      <td>0.154644</td>\n",
              "      <td>0.129215</td>\n",
              "      <td>2.561322</td>\n",
              "      <td>0.565156</td>\n",
              "      <td>0.102120</td>\n",
              "      <td>0.035926</td>\n",
              "      <td>1.706892</td>\n",
              "      <td>0.031450</td>\n",
              "      <td>0</td>\n",
              "    </tr>\n",
              "    <tr>\n",
              "      <th>4</th>\n",
              "      <td>0.46</td>\n",
              "      <td>0.091589</td>\n",
              "      <td>0.151960</td>\n",
              "      <td>0.140450</td>\n",
              "      <td>2.435260</td>\n",
              "      <td>1.020143</td>\n",
              "      <td>0.054106</td>\n",
              "      <td>0.001844</td>\n",
              "      <td>1.101638</td>\n",
              "      <td>0.008021</td>\n",
              "      <td>0</td>\n",
              "    </tr>\n",
              "  </tbody>\n",
              "</table>\n",
              "</div>"
            ],
            "text/plain": [
              "   mediana  średnia zadł ogół  ...  Struktura  sektor_usługi\n",
              "0     0.54           0.268842  ...   0.018795              1\n",
              "1     0.46           0.591172  ...   0.042818              0\n",
              "2     0.54           0.585974  ...   0.041059              1\n",
              "3     0.46           0.407365  ...   0.031450              0\n",
              "4     0.46           0.091589  ...   0.008021              0\n",
              "\n",
              "[5 rows x 11 columns]"
            ]
          },
          "metadata": {
            "tags": []
          },
          "execution_count": 18
        }
      ]
    },
    {
      "cell_type": "code",
      "metadata": {
        "id": "zvXfhsl_TDYA",
        "colab": {
          "base_uri": "https://localhost:8080/",
          "height": 464
        },
        "outputId": "f498bd9a-7ed3-4552-8ee3-ea9076c1b748"
      },
      "source": [
        "corr = df_dummies.corr()\n",
        "corr"
      ],
      "execution_count": null,
      "outputs": [
        {
          "output_type": "execute_result",
          "data": {
            "text/html": [
              "<div>\n",
              "<style scoped>\n",
              "    .dataframe tbody tr th:only-of-type {\n",
              "        vertical-align: middle;\n",
              "    }\n",
              "\n",
              "    .dataframe tbody tr th {\n",
              "        vertical-align: top;\n",
              "    }\n",
              "\n",
              "    .dataframe thead th {\n",
              "        text-align: right;\n",
              "    }\n",
              "</style>\n",
              "<table border=\"1\" class=\"dataframe\">\n",
              "  <thead>\n",
              "    <tr style=\"text-align: right;\">\n",
              "      <th></th>\n",
              "      <th>mediana</th>\n",
              "      <th>średnia zadł ogół</th>\n",
              "      <th>podatek</th>\n",
              "      <th>średnia ROA</th>\n",
              "      <th>ln SIZE</th>\n",
              "      <th>wsk rzecz ak trw/ao</th>\n",
              "      <th>wskażnik dywidendy</th>\n",
              "      <th>ryzyko</th>\n",
              "      <th>średnia wsk dźwig fin</th>\n",
              "      <th>Struktura</th>\n",
              "      <th>sektor_usługi</th>\n",
              "    </tr>\n",
              "  </thead>\n",
              "  <tbody>\n",
              "    <tr>\n",
              "      <th>mediana</th>\n",
              "      <td>1.000000</td>\n",
              "      <td>0.117700</td>\n",
              "      <td>-0.055128</td>\n",
              "      <td>-0.167250</td>\n",
              "      <td>-0.111398</td>\n",
              "      <td>-0.412264</td>\n",
              "      <td>0.065381</td>\n",
              "      <td>0.090935</td>\n",
              "      <td>0.088231</td>\n",
              "      <td>0.158539</td>\n",
              "      <td>1.000000</td>\n",
              "    </tr>\n",
              "    <tr>\n",
              "      <th>średnia zadł ogół</th>\n",
              "      <td>0.117700</td>\n",
              "      <td>1.000000</td>\n",
              "      <td>-0.016822</td>\n",
              "      <td>-0.245798</td>\n",
              "      <td>0.154494</td>\n",
              "      <td>-0.153636</td>\n",
              "      <td>-0.079131</td>\n",
              "      <td>0.045021</td>\n",
              "      <td>0.325231</td>\n",
              "      <td>0.947543</td>\n",
              "      <td>0.117700</td>\n",
              "    </tr>\n",
              "    <tr>\n",
              "      <th>podatek</th>\n",
              "      <td>-0.055128</td>\n",
              "      <td>-0.016822</td>\n",
              "      <td>1.000000</td>\n",
              "      <td>-0.095772</td>\n",
              "      <td>-0.029729</td>\n",
              "      <td>-0.022054</td>\n",
              "      <td>-0.073390</td>\n",
              "      <td>0.514627</td>\n",
              "      <td>0.000607</td>\n",
              "      <td>-0.010781</td>\n",
              "      <td>-0.055128</td>\n",
              "    </tr>\n",
              "    <tr>\n",
              "      <th>średnia ROA</th>\n",
              "      <td>-0.167250</td>\n",
              "      <td>-0.245798</td>\n",
              "      <td>-0.095772</td>\n",
              "      <td>1.000000</td>\n",
              "      <td>0.205685</td>\n",
              "      <td>0.077868</td>\n",
              "      <td>0.308821</td>\n",
              "      <td>-0.177888</td>\n",
              "      <td>0.039731</td>\n",
              "      <td>-0.310615</td>\n",
              "      <td>-0.167250</td>\n",
              "    </tr>\n",
              "    <tr>\n",
              "      <th>ln SIZE</th>\n",
              "      <td>-0.111398</td>\n",
              "      <td>0.154494</td>\n",
              "      <td>-0.029729</td>\n",
              "      <td>0.205685</td>\n",
              "      <td>1.000000</td>\n",
              "      <td>0.266358</td>\n",
              "      <td>-0.035661</td>\n",
              "      <td>-0.041895</td>\n",
              "      <td>0.164114</td>\n",
              "      <td>-0.129886</td>\n",
              "      <td>-0.111398</td>\n",
              "    </tr>\n",
              "    <tr>\n",
              "      <th>wsk rzecz ak trw/ao</th>\n",
              "      <td>-0.412264</td>\n",
              "      <td>-0.153636</td>\n",
              "      <td>-0.022054</td>\n",
              "      <td>0.077868</td>\n",
              "      <td>0.266358</td>\n",
              "      <td>1.000000</td>\n",
              "      <td>-0.063913</td>\n",
              "      <td>0.073769</td>\n",
              "      <td>-0.087493</td>\n",
              "      <td>-0.197130</td>\n",
              "      <td>-0.412264</td>\n",
              "    </tr>\n",
              "    <tr>\n",
              "      <th>wskażnik dywidendy</th>\n",
              "      <td>0.065381</td>\n",
              "      <td>-0.079131</td>\n",
              "      <td>-0.073390</td>\n",
              "      <td>0.308821</td>\n",
              "      <td>-0.035661</td>\n",
              "      <td>-0.063913</td>\n",
              "      <td>1.000000</td>\n",
              "      <td>-0.149309</td>\n",
              "      <td>-0.129383</td>\n",
              "      <td>-0.067550</td>\n",
              "      <td>0.065381</td>\n",
              "    </tr>\n",
              "    <tr>\n",
              "      <th>ryzyko</th>\n",
              "      <td>0.090935</td>\n",
              "      <td>0.045021</td>\n",
              "      <td>0.514627</td>\n",
              "      <td>-0.177888</td>\n",
              "      <td>-0.041895</td>\n",
              "      <td>0.073769</td>\n",
              "      <td>-0.149309</td>\n",
              "      <td>1.000000</td>\n",
              "      <td>0.051453</td>\n",
              "      <td>0.058461</td>\n",
              "      <td>0.090935</td>\n",
              "    </tr>\n",
              "    <tr>\n",
              "      <th>średnia wsk dźwig fin</th>\n",
              "      <td>0.088231</td>\n",
              "      <td>0.325231</td>\n",
              "      <td>0.000607</td>\n",
              "      <td>0.039731</td>\n",
              "      <td>0.164114</td>\n",
              "      <td>-0.087493</td>\n",
              "      <td>-0.129383</td>\n",
              "      <td>0.051453</td>\n",
              "      <td>1.000000</td>\n",
              "      <td>0.222839</td>\n",
              "      <td>0.088231</td>\n",
              "    </tr>\n",
              "    <tr>\n",
              "      <th>Struktura</th>\n",
              "      <td>0.158539</td>\n",
              "      <td>0.947543</td>\n",
              "      <td>-0.010781</td>\n",
              "      <td>-0.310615</td>\n",
              "      <td>-0.129886</td>\n",
              "      <td>-0.197130</td>\n",
              "      <td>-0.067550</td>\n",
              "      <td>0.058461</td>\n",
              "      <td>0.222839</td>\n",
              "      <td>1.000000</td>\n",
              "      <td>0.158539</td>\n",
              "    </tr>\n",
              "    <tr>\n",
              "      <th>sektor_usługi</th>\n",
              "      <td>1.000000</td>\n",
              "      <td>0.117700</td>\n",
              "      <td>-0.055128</td>\n",
              "      <td>-0.167250</td>\n",
              "      <td>-0.111398</td>\n",
              "      <td>-0.412264</td>\n",
              "      <td>0.065381</td>\n",
              "      <td>0.090935</td>\n",
              "      <td>0.088231</td>\n",
              "      <td>0.158539</td>\n",
              "      <td>1.000000</td>\n",
              "    </tr>\n",
              "  </tbody>\n",
              "</table>\n",
              "</div>"
            ],
            "text/plain": [
              "                        mediana  średnia zadł ogół  ...  Struktura  sektor_usługi\n",
              "mediana                1.000000           0.117700  ...   0.158539       1.000000\n",
              "średnia zadł ogół      0.117700           1.000000  ...   0.947543       0.117700\n",
              "podatek               -0.055128          -0.016822  ...  -0.010781      -0.055128\n",
              "średnia ROA           -0.167250          -0.245798  ...  -0.310615      -0.167250\n",
              "ln SIZE               -0.111398           0.154494  ...  -0.129886      -0.111398\n",
              "wsk rzecz ak trw/ao   -0.412264          -0.153636  ...  -0.197130      -0.412264\n",
              "wskażnik dywidendy     0.065381          -0.079131  ...  -0.067550       0.065381\n",
              "ryzyko                 0.090935           0.045021  ...   0.058461       0.090935\n",
              "średnia wsk dźwig fin  0.088231           0.325231  ...   0.222839       0.088231\n",
              "Struktura              0.158539           0.947543  ...   1.000000       0.158539\n",
              "sektor_usługi          1.000000           0.117700  ...   0.158539       1.000000\n",
              "\n",
              "[11 rows x 11 columns]"
            ]
          },
          "metadata": {
            "tags": []
          },
          "execution_count": 19
        }
      ]
    },
    {
      "cell_type": "code",
      "metadata": {
        "id": "HoK4kNbdUQvu",
        "colab": {
          "base_uri": "https://localhost:8080/",
          "height": 503
        },
        "outputId": "8b1efae9-18ed-4801-f8d6-e20291e31397"
      },
      "source": [
        "sns.set(style=\"white\")\n",
        "mask = np.zeros_like(corr, dtype=np.bool)\n",
        "mask[np.triu_indices_from(mask)] = True\n",
        "f, ax = plt.subplots(figsize=(8, 6))\n",
        "cmap = sns.diverging_palette(220, 10, as_cmap=True)\n",
        "sns.heatmap(corr, mask=mask, cmap=cmap, vmax=.3, center=0,\n",
        "            square=True, linewidths=.5, cbar_kws={\"shrink\": .5})"
      ],
      "execution_count": null,
      "outputs": [
        {
          "output_type": "execute_result",
          "data": {
            "text/plain": [
              "<matplotlib.axes._subplots.AxesSubplot at 0x7f426f6fe668>"
            ]
          },
          "metadata": {
            "tags": []
          },
          "execution_count": 20
        },
        {
          "output_type": "display_data",
          "data": {
            "image/png": "[encoded data removed]",
            "text/plain": [
              "<Figure size 576x432 with 2 Axes>"
            ]
          },
          "metadata": {
            "tags": []
          }
        }
      ]
    },
    {
      "cell_type": "code",
      "metadata": {
        "id": "exJJ8EujT5H4",
        "colab": {
          "base_uri": "https://localhost:8080/"
        },
        "outputId": "dafa517a-a049-41d3-baaf-9934d0395e7e"
      },
      "source": [
        "df_dummies.corr()['Struktura'].sort_values(ascending=False)"
      ],
      "execution_count": null,
      "outputs": [
        {
          "output_type": "execute_result",
          "data": {
            "text/plain": [
              "Struktura                1.000000\n",
              "średnia zadł ogół        0.947543\n",
              "średnia wsk dźwig fin    0.222839\n",
              "mediana                  0.158539\n",
              "sektor_usługi            0.158539\n",
              "ryzyko                   0.058461\n",
              "podatek                 -0.010781\n",
              "wskażnik dywidendy      -0.067550\n",
              "ln SIZE                 -0.129886\n",
              "wsk rzecz ak trw/ao     -0.197130\n",
              "średnia ROA             -0.310615\n",
              "Name: Struktura, dtype: float64"
            ]
          },
          "metadata": {
            "tags": []
          },
          "execution_count": 21
        }
      ]
    },
    {
      "cell_type": "code",
      "metadata": {
        "id": "mYXAdmCPUGRk",
        "colab": {
          "base_uri": "https://localhost:8080/",
          "height": 286
        },
        "outputId": "fa7bd0d0-50fd-4b5b-f7ce-740efe7f6ba5"
      },
      "source": [
        "sns.set()\n",
        "df_dummies.corr()['Struktura'].sort_values()[:-1].plot(kind='barh')"
      ],
      "execution_count": null,
      "outputs": [
        {
          "output_type": "execute_result",
          "data": {
            "text/plain": [
              "<matplotlib.axes._subplots.AxesSubplot at 0x7f426f6dd240>"
            ]
          },
          "metadata": {
            "tags": []
          },
          "execution_count": 22
        },
        {
          "output_type": "display_data",
          "data": {
            "image/png": "[encoded data removed]",
            "text/plain": [
              "<Figure size 432x288 with 1 Axes>"
            ]
          },
          "metadata": {
            "tags": []
          }
        }
      ]
    },
    {
      "cell_type": "code",
      "metadata": {
        "id": "XmjJE07IV6ks",
        "colab": {
          "base_uri": "https://localhost:8080/",
          "height": 206
        },
        "outputId": "07e08798-589f-41f4-d609-12d6756f11c5"
      },
      "source": [
        "data = df_dummies.copy()\n",
        "target = data.pop('Struktura')\n",
        "data.head()"
      ],
      "execution_count": null,
      "outputs": [
        {
          "output_type": "execute_result",
          "data": {
            "text/html": [
              "<div>\n",
              "<style scoped>\n",
              "    .dataframe tbody tr th:only-of-type {\n",
              "        vertical-align: middle;\n",
              "    }\n",
              "\n",
              "    .dataframe tbody tr th {\n",
              "        vertical-align: top;\n",
              "    }\n",
              "\n",
              "    .dataframe thead th {\n",
              "        text-align: right;\n",
              "    }\n",
              "</style>\n",
              "<table border=\"1\" class=\"dataframe\">\n",
              "  <thead>\n",
              "    <tr style=\"text-align: right;\">\n",
              "      <th></th>\n",
              "      <th>mediana</th>\n",
              "      <th>średnia zadł ogół</th>\n",
              "      <th>podatek</th>\n",
              "      <th>średnia ROA</th>\n",
              "      <th>ln SIZE</th>\n",
              "      <th>wsk rzecz ak trw/ao</th>\n",
              "      <th>wskażnik dywidendy</th>\n",
              "      <th>ryzyko</th>\n",
              "      <th>średnia wsk dźwig fin</th>\n",
              "      <th>sektor_usługi</th>\n",
              "    </tr>\n",
              "  </thead>\n",
              "  <tbody>\n",
              "    <tr>\n",
              "      <th>0</th>\n",
              "      <td>0.54</td>\n",
              "      <td>0.268842</td>\n",
              "      <td>0.629528</td>\n",
              "      <td>0.016473</td>\n",
              "      <td>2.660557</td>\n",
              "      <td>0.808878</td>\n",
              "      <td>0.033130</td>\n",
              "      <td>0.482471</td>\n",
              "      <td>1.366505</td>\n",
              "      <td>1</td>\n",
              "    </tr>\n",
              "    <tr>\n",
              "      <th>1</th>\n",
              "      <td>0.46</td>\n",
              "      <td>0.591172</td>\n",
              "      <td>0.069862</td>\n",
              "      <td>0.047287</td>\n",
              "      <td>2.625140</td>\n",
              "      <td>0.486058</td>\n",
              "      <td>0.038090</td>\n",
              "      <td>0.198194</td>\n",
              "      <td>2.669319</td>\n",
              "      <td>0</td>\n",
              "    </tr>\n",
              "    <tr>\n",
              "      <th>2</th>\n",
              "      <td>0.54</td>\n",
              "      <td>0.585974</td>\n",
              "      <td>0.125818</td>\n",
              "      <td>0.049117</td>\n",
              "      <td>2.658260</td>\n",
              "      <td>0.864786</td>\n",
              "      <td>0.001041</td>\n",
              "      <td>0.153558</td>\n",
              "      <td>2.451094</td>\n",
              "      <td>1</td>\n",
              "    </tr>\n",
              "    <tr>\n",
              "      <th>3</th>\n",
              "      <td>0.46</td>\n",
              "      <td>0.407365</td>\n",
              "      <td>0.154644</td>\n",
              "      <td>0.129215</td>\n",
              "      <td>2.561322</td>\n",
              "      <td>0.565156</td>\n",
              "      <td>0.102120</td>\n",
              "      <td>0.035926</td>\n",
              "      <td>1.706892</td>\n",
              "      <td>0</td>\n",
              "    </tr>\n",
              "    <tr>\n",
              "      <th>4</th>\n",
              "      <td>0.46</td>\n",
              "      <td>0.091589</td>\n",
              "      <td>0.151960</td>\n",
              "      <td>0.140450</td>\n",
              "      <td>2.435260</td>\n",
              "      <td>1.020143</td>\n",
              "      <td>0.054106</td>\n",
              "      <td>0.001844</td>\n",
              "      <td>1.101638</td>\n",
              "      <td>0</td>\n",
              "    </tr>\n",
              "  </tbody>\n",
              "</table>\n",
              "</div>"
            ],
            "text/plain": [
              "   mediana  średnia zadł ogół  ...  średnia wsk dźwig fin  sektor_usługi\n",
              "0     0.54           0.268842  ...               1.366505              1\n",
              "1     0.46           0.591172  ...               2.669319              0\n",
              "2     0.54           0.585974  ...               2.451094              1\n",
              "3     0.46           0.407365  ...               1.706892              0\n",
              "4     0.46           0.091589  ...               1.101638              0\n",
              "\n",
              "[5 rows x 10 columns]"
            ]
          },
          "metadata": {
            "tags": []
          },
          "execution_count": 23
        }
      ]
    },
    {
      "cell_type": "code",
      "metadata": {
        "id": "05YMFRxyWJeA",
        "colab": {
          "base_uri": "https://localhost:8080/"
        },
        "outputId": "e2689053-9ad0-4298-931a-af8864592850"
      },
      "source": [
        "target.head()"
      ],
      "execution_count": null,
      "outputs": [
        {
          "output_type": "execute_result",
          "data": {
            "text/plain": [
              "0    0.018795\n",
              "1    0.042818\n",
              "2    0.041059\n",
              "3    0.031450\n",
              "4    0.008021\n",
              "Name: Struktura, dtype: float64"
            ]
          },
          "metadata": {
            "tags": []
          },
          "execution_count": 24
        }
      ]
    },
    {
      "cell_type": "markdown",
      "metadata": {
        "id": "BlhPj-aBrMMa"
      },
      "source": [
        "### <a name='4'></a> Podział danych na zbiór treningowy i testowy"
      ]
    },
    {
      "cell_type": "code",
      "metadata": {
        "id": "p7PtOkS8VA1J",
        "colab": {
          "base_uri": "https://localhost:8080/"
        },
        "outputId": "65ce5ed1-a4c0-47c7-e84c-d1ccd00fed43"
      },
      "source": [
        "from sklearn.model_selection import train_test_split\n",
        "\n",
        "X_train, X_test, y_train, y_test = train_test_split(data, target, test_size=0.2)\n",
        "\n",
        "print(f'X_trian shape: {X_train.shape}')\n",
        "print(f'X_test shape: {X_test.shape}')\n",
        "print(f'y_trian shape: {y_train.shape}')\n",
        "print(f'y_test shape: {y_test.shape}')"
      ],
      "execution_count": null,
      "outputs": [
        {
          "output_type": "stream",
          "text": [
            "X_trian shape: (117, 10)\n",
            "X_test shape: (30, 10)\n",
            "y_trian shape: (117,)\n",
            "y_test shape: (30,)\n"
          ],
          "name": "stdout"
        }
      ]
    },
    {
      "cell_type": "markdown",
      "metadata": {
        "id": "lHLmnPAVrY_P"
      },
      "source": [
        "### <a name='5'></a> Regresja liniowa"
      ]
    },
    {
      "cell_type": "code",
      "metadata": {
        "id": "tQK0TWRtWXvb",
        "colab": {
          "base_uri": "https://localhost:8080/"
        },
        "outputId": "3a1891d1-4e3e-4d1a-d70a-ba7826a8f378"
      },
      "source": [
        "from sklearn.linear_model import LinearRegression\n",
        "\n",
        "regressor = LinearRegression()\n",
        "regressor.fit(X_train, y_train)"
      ],
      "execution_count": null,
      "outputs": [
        {
          "output_type": "execute_result",
          "data": {
            "text/plain": [
              "LinearRegression(copy_X=True, fit_intercept=True, n_jobs=None, normalize=False)"
            ]
          },
          "metadata": {
            "tags": []
          },
          "execution_count": 26
        }
      ]
    },
    {
      "cell_type": "code",
      "metadata": {
        "id": "9hP_SfyaWwlw",
        "colab": {
          "base_uri": "https://localhost:8080/"
        },
        "outputId": "ccf46c81-1500-4966-9b94-102b0bb686de"
      },
      "source": [
        "print(f'R2 score: {regressor.score(X_test, y_test):.4f}')"
      ],
      "execution_count": null,
      "outputs": [
        {
          "output_type": "stream",
          "text": [
            "R2 score: 0.9705\n"
          ],
          "name": "stdout"
        }
      ]
    },
    {
      "cell_type": "code",
      "metadata": {
        "id": "egKyObOFWzAa",
        "colab": {
          "base_uri": "https://localhost:8080/"
        },
        "outputId": "63d9cffb-005b-4d28-f7a3-f6d2ece9444d"
      },
      "source": [
        "y_pred = regressor.predict(X_test)\n",
        "y_pred[:10]"
      ],
      "execution_count": null,
      "outputs": [
        {
          "output_type": "execute_result",
          "data": {
            "text/plain": [
              "array([0.0316, 0.0494, 0.0546, 0.0397, 0.0401, 0.0223, 0.0524, 0.0504,\n",
              "       0.0413, 0.038 ])"
            ]
          },
          "metadata": {
            "tags": []
          },
          "execution_count": 28
        }
      ]
    },
    {
      "cell_type": "code",
      "metadata": {
        "id": "rb6659uKXE7C",
        "colab": {
          "base_uri": "https://localhost:8080/",
          "height": 206
        },
        "outputId": "902876a9-d1ac-4d25-b45a-35bd2c65af32"
      },
      "source": [
        "y_true = y_test.copy()\n",
        "predictions = pd.DataFrame(data={'y_true': y_true, 'y_pred': y_pred})\n",
        "predictions['error'] = predictions['y_true'] -  predictions['y_pred']\n",
        "predictions.head()"
      ],
      "execution_count": null,
      "outputs": [
        {
          "output_type": "execute_result",
          "data": {
            "text/html": [
              "<div>\n",
              "<style scoped>\n",
              "    .dataframe tbody tr th:only-of-type {\n",
              "        vertical-align: middle;\n",
              "    }\n",
              "\n",
              "    .dataframe tbody tr th {\n",
              "        vertical-align: top;\n",
              "    }\n",
              "\n",
              "    .dataframe thead th {\n",
              "        text-align: right;\n",
              "    }\n",
              "</style>\n",
              "<table border=\"1\" class=\"dataframe\">\n",
              "  <thead>\n",
              "    <tr style=\"text-align: right;\">\n",
              "      <th></th>\n",
              "      <th>y_true</th>\n",
              "      <th>y_pred</th>\n",
              "      <th>error</th>\n",
              "    </tr>\n",
              "  </thead>\n",
              "  <tbody>\n",
              "    <tr>\n",
              "      <th>125</th>\n",
              "      <td>0.030622</td>\n",
              "      <td>0.031592</td>\n",
              "      <td>-0.000970</td>\n",
              "    </tr>\n",
              "    <tr>\n",
              "      <th>51</th>\n",
              "      <td>0.049843</td>\n",
              "      <td>0.049366</td>\n",
              "      <td>0.000477</td>\n",
              "    </tr>\n",
              "    <tr>\n",
              "      <th>138</th>\n",
              "      <td>0.055910</td>\n",
              "      <td>0.054620</td>\n",
              "      <td>0.001290</td>\n",
              "    </tr>\n",
              "    <tr>\n",
              "      <th>19</th>\n",
              "      <td>0.038629</td>\n",
              "      <td>0.039742</td>\n",
              "      <td>-0.001113</td>\n",
              "    </tr>\n",
              "    <tr>\n",
              "      <th>104</th>\n",
              "      <td>0.040332</td>\n",
              "      <td>0.040072</td>\n",
              "      <td>0.000260</td>\n",
              "    </tr>\n",
              "  </tbody>\n",
              "</table>\n",
              "</div>"
            ],
            "text/plain": [
              "       y_true    y_pred     error\n",
              "125  0.030622  0.031592 -0.000970\n",
              "51   0.049843  0.049366  0.000477\n",
              "138  0.055910  0.054620  0.001290\n",
              "19   0.038629  0.039742 -0.001113\n",
              "104  0.040332  0.040072  0.000260"
            ]
          },
          "metadata": {
            "tags": []
          },
          "execution_count": 29
        }
      ]
    },
    {
      "cell_type": "code",
      "metadata": {
        "id": "BjeBsAK8XYUy",
        "colab": {
          "base_uri": "https://localhost:8080/",
          "height": 286
        },
        "outputId": "fc1dc528-70b0-4644-c7a5-5f44d1cc90bc"
      },
      "source": [
        "predictions.error.plot(kind='hist', bins=30)"
      ],
      "execution_count": null,
      "outputs": [
        {
          "output_type": "execute_result",
          "data": {
            "text/plain": [
              "<matplotlib.axes._subplots.AxesSubplot at 0x7f4264ead400>"
            ]
          },
          "metadata": {
            "tags": []
          },
          "execution_count": 30
        },
        {
          "output_type": "display_data",
          "data": {
            "image/png": "[encoded data removed]",
            "text/plain": [
              "<Figure size 432x288 with 1 Axes>"
            ]
          },
          "metadata": {
            "tags": []
          }
        }
      ]
    },
    {
      "cell_type": "code",
      "metadata": {
        "id": "gE4oWsprX7_8",
        "colab": {
          "base_uri": "https://localhost:8080/"
        },
        "outputId": "063537af-8f8d-4722-9ec2-7d8384b39c76"
      },
      "source": [
        "from sklearn.metrics import mean_absolute_error\n",
        "\n",
        "mae = mean_absolute_error(y_true, y_pred)\n",
        "print(f'MAE wynosi: {mae:.2f}')"
      ],
      "execution_count": null,
      "outputs": [
        {
          "output_type": "stream",
          "text": [
            "MAE wynosi: 0.00\n"
          ],
          "name": "stdout"
        }
      ]
    },
    {
      "cell_type": "code",
      "metadata": {
        "id": "UVK5P7cqYZ4F",
        "colab": {
          "base_uri": "https://localhost:8080/"
        },
        "outputId": "81888183-fbeb-4ca4-9e30-e340096bf516"
      },
      "source": [
        "regressor.intercept_"
      ],
      "execution_count": null,
      "outputs": [
        {
          "output_type": "execute_result",
          "data": {
            "text/plain": [
              "0.08359649336714077"
            ]
          },
          "metadata": {
            "tags": []
          },
          "execution_count": 32
        }
      ]
    },
    {
      "cell_type": "code",
      "metadata": {
        "id": "Q2LMbNuIY3A4",
        "colab": {
          "base_uri": "https://localhost:8080/"
        },
        "outputId": "5d8b666d-8e5e-45aa-c9da-4500baa35389"
      },
      "source": [
        "regressor.coef_"
      ],
      "execution_count": null,
      "outputs": [
        {
          "output_type": "execute_result",
          "data": {
            "text/plain": [
              "array([ 0.    ,  0.0793, -0.    , -0.0003, -0.0331,  0.0011, -0.001 ,\n",
              "       -0.    , -0.0003,  0.0004])"
            ]
          },
          "metadata": {
            "tags": []
          },
          "execution_count": 33
        }
      ]
    },
    {
      "cell_type": "code",
      "metadata": {
        "id": "lOXb32c8Y5B4",
        "colab": {
          "base_uri": "https://localhost:8080/"
        },
        "outputId": "635f7e4e-da39-4704-df4f-5beda3b59314"
      },
      "source": [
        "data.columns"
      ],
      "execution_count": null,
      "outputs": [
        {
          "output_type": "execute_result",
          "data": {
            "text/plain": [
              "Index(['mediana', 'średnia zadł ogół', 'podatek', 'średnia ROA', 'ln SIZE',\n",
              "       'wsk rzecz ak trw/ao', 'wskażnik dywidendy', 'ryzyko',\n",
              "       'średnia wsk dźwig fin', 'sektor_usługi'],\n",
              "      dtype='object')"
            ]
          },
          "metadata": {
            "tags": []
          },
          "execution_count": 34
        }
      ]
    },
    {
      "cell_type": "markdown",
      "metadata": {
        "id": "GVydVDdWhyZL"
      },
      "source": [
        "### <a name='6'></a> Dobór cech modelu - eliminacja wsteczna"
      ]
    },
    {
      "cell_type": "code",
      "metadata": {
        "id": "p3xHclBHZHRU",
        "colab": {
          "base_uri": "https://localhost:8080/"
        },
        "outputId": "93a50b81-339e-4f30-a1d5-2d780832652b"
      },
      "source": [
        "import statsmodels.api as sm\n",
        "\n",
        "X_train_ols = X_train.copy()\n",
        "X_train_ols = X_train_ols.values\n",
        "X_train_ols = sm.add_constant(X_train_ols)\n",
        "X_train_ols"
      ],
      "execution_count": null,
      "outputs": [
        {
          "output_type": "stream",
          "text": [
            "/usr/local/lib/python3.6/dist-packages/statsmodels/tools/_testing.py:19: FutureWarning:\n",
            "\n",
            "pandas.util.testing is deprecated. Use the functions in the public API at pandas.testing instead.\n",
            "\n"
          ],
          "name": "stderr"
        },
        {
          "output_type": "execute_result",
          "data": {
            "text/plain": [
              "array([[1.    , 0.46  , 0.5581, ..., 0.4275, 2.4352, 0.    ],\n",
              "       [1.    , 0.46  , 0.236 , ..., 0.3768, 1.3531, 0.    ],\n",
              "       [1.    , 0.46  , 0.3335, ..., 0.1913, 1.6266, 0.    ],\n",
              "       ...,\n",
              "       [1.    , 0.46  , 0.6714, ..., 0.3768, 4.6516, 0.    ],\n",
              "       [1.    , 0.54  , 0.1893, ..., 0.4644, 1.2486, 1.    ],\n",
              "       [1.    , 0.46  , 0.5164, ..., 0.1083, 2.069 , 0.    ]])"
            ]
          },
          "metadata": {
            "tags": []
          },
          "execution_count": 35
        }
      ]
    },
    {
      "cell_type": "code",
      "metadata": {
        "id": "i9oGrN1qh6A2",
        "colab": {
          "base_uri": "https://localhost:8080/"
        },
        "outputId": "bdb7008c-b1ac-4d66-ec7f-31e2daee8044"
      },
      "source": [
        "ols = sm.OLS(endog=y_train, exog=X_train_ols).fit()\n",
        "predictors = ['const'] + list(X_train.columns)\n",
        "print(ols.summary(xname=predictors))"
      ],
      "execution_count": null,
      "outputs": [
        {
          "output_type": "stream",
          "text": [
            "                            OLS Regression Results                            \n",
            "==============================================================================\n",
            "Dep. Variable:              Struktura   R-squared:                       0.985\n",
            "Model:                            OLS   Adj. R-squared:                  0.983\n",
            "Method:                 Least Squares   F-statistic:                     757.7\n",
            "Date:                Sat, 23 Jan 2021   Prob (F-statistic):           1.34e-92\n",
            "Time:                        16:36:58   Log-Likelihood:                 584.73\n",
            "No. Observations:                 117   AIC:                            -1149.\n",
            "Df Residuals:                     107   BIC:                            -1122.\n",
            "Df Model:                           9                                         \n",
            "Covariance Type:            nonrobust                                         \n",
            "=========================================================================================\n",
            "                            coef    std err          t      P>|t|      [0.025      0.975]\n",
            "-----------------------------------------------------------------------------------------\n",
            "const                     0.0691      0.003     25.017      0.000       0.064       0.075\n",
            "mediana                   0.0316      0.001     24.998      0.000       0.029       0.034\n",
            "średnia zadł ogół         0.0793      0.001     57.242      0.000       0.077       0.082\n",
            "podatek               -1.128e-05      0.000     -0.041      0.967      -0.001       0.001\n",
            "średnia ROA              -0.0003      0.003     -0.091      0.928      -0.007       0.006\n",
            "ln SIZE                  -0.0331      0.001    -23.781      0.000      -0.036      -0.030\n",
            "wsk rzecz ak trw/ao       0.0011      0.000      2.550      0.012       0.000       0.002\n",
            "wskażnik dywidendy       -0.0010      0.002     -0.419      0.676      -0.006       0.004\n",
            "ryzyko                -1.117e-05      0.000     -0.049      0.961      -0.000       0.000\n",
            "średnia wsk dźwig fin    -0.0003      0.000     -1.955      0.053      -0.001    4.81e-06\n",
            "sektor_usługi            -0.0021      0.000     -5.378      0.000      -0.003      -0.001\n",
            "==============================================================================\n",
            "Omnibus:                       53.482   Durbin-Watson:                   1.871\n",
            "Prob(Omnibus):                  0.000   Jarque-Bera (JB):              342.826\n",
            "Skew:                          -1.342   Prob(JB):                     3.60e-75\n",
            "Kurtosis:                      10.945   Cond. No.                     4.86e+16\n",
            "==============================================================================\n",
            "\n",
            "Warnings:\n",
            "[1] Standard Errors assume that the covariance matrix of the errors is correctly specified.\n",
            "[2] The smallest eigenvalue is 7.35e-31. This might indicate that there are\n",
            "strong multicollinearity problems or that the design matrix is singular.\n"
          ],
          "name": "stdout"
        }
      ]
    },
    {
      "cell_type": "code",
      "metadata": {
        "id": "JUKi9jlDh7xL",
        "colab": {
          "base_uri": "https://localhost:8080/"
        },
        "outputId": "c3061c4a-9184-4a94-89b5-c38d632e0a79"
      },
      "source": [
        "X_selected = X_train_ols[:, [0, 1, 2, 4, 5, 6, 7, 8,9,10]]\n",
        "predictors.remove('podatek')\n",
        "\n",
        "ols = sm.OLS(endog=y_train, exog=X_selected).fit()\n",
        "print(ols.summary(xname=predictors))"
      ],
      "execution_count": null,
      "outputs": [
        {
          "output_type": "stream",
          "text": [
            "                            OLS Regression Results                            \n",
            "==============================================================================\n",
            "Dep. Variable:              Struktura   R-squared:                       0.985\n",
            "Model:                            OLS   Adj. R-squared:                  0.983\n",
            "Method:                 Least Squares   F-statistic:                     860.3\n",
            "Date:                Sat, 23 Jan 2021   Prob (F-statistic):           4.44e-94\n",
            "Time:                        16:39:22   Log-Likelihood:                 584.73\n",
            "No. Observations:                 117   AIC:                            -1151.\n",
            "Df Residuals:                     108   BIC:                            -1127.\n",
            "Df Model:                           8                                         \n",
            "Covariance Type:            nonrobust                                         \n",
            "=========================================================================================\n",
            "                            coef    std err          t      P>|t|      [0.025      0.975]\n",
            "-----------------------------------------------------------------------------------------\n",
            "const                     0.0691      0.003     25.138      0.000       0.064       0.075\n",
            "mediana                   0.0316      0.001     25.121      0.000       0.029       0.034\n",
            "średnia zadł ogół         0.0793      0.001     57.510      0.000       0.077       0.082\n",
            "średnia ROA              -0.0003      0.003     -0.092      0.927      -0.007       0.006\n",
            "ln SIZE                  -0.0331      0.001    -23.919      0.000      -0.036      -0.030\n",
            "wsk rzecz ak trw/ao       0.0011      0.000      2.595      0.011       0.000       0.002\n",
            "wskażnik dywidendy       -0.0010      0.002     -0.421      0.674      -0.006       0.004\n",
            "ryzyko                -1.583e-05      0.000     -0.080      0.936      -0.000       0.000\n",
            "średnia wsk dźwig fin    -0.0003      0.000     -1.964      0.052      -0.001    3.23e-06\n",
            "sektor_usługi            -0.0021      0.000     -5.497      0.000      -0.003      -0.001\n",
            "==============================================================================\n",
            "Omnibus:                       53.447   Durbin-Watson:                   1.871\n",
            "Prob(Omnibus):                  0.000   Jarque-Bera (JB):              342.263\n",
            "Skew:                          -1.341   Prob(JB):                     4.77e-75\n",
            "Kurtosis:                      10.938   Cond. No.                     5.20e+16\n",
            "==============================================================================\n",
            "\n",
            "Warnings:\n",
            "[1] Standard Errors assume that the covariance matrix of the errors is correctly specified.\n",
            "[2] The smallest eigenvalue is 6.36e-31. This might indicate that there are\n",
            "strong multicollinearity problems or that the design matrix is singular.\n"
          ],
          "name": "stdout"
        }
      ]
    },
    {
      "cell_type": "code",
      "metadata": {
        "id": "cckY_qTQh9fR",
        "colab": {
          "base_uri": "https://localhost:8080/"
        },
        "outputId": "b5c65738-0309-4c6e-f413-0f7eb8515660"
      },
      "source": [
        "X_selected = X_train_ols[:, [0, 1, 2, 3,4, 5,6, 8,9]]\n",
        "predictors.remove('ryzyko')\n",
        "\n",
        "ols = sm.OLS(endog=y_train, exog=X_selected).fit()\n",
        "print(ols.summary(xname=predictors))"
      ],
      "execution_count": null,
      "outputs": [
        {
          "output_type": "stream",
          "text": [
            "                            OLS Regression Results                            \n",
            "==============================================================================\n",
            "Dep. Variable:              Struktura   R-squared:                       0.985\n",
            "Model:                            OLS   Adj. R-squared:                  0.983\n",
            "Method:                 Least Squares   F-statistic:                     858.9\n",
            "Date:                Sat, 23 Jan 2021   Prob (F-statistic):           4.84e-94\n",
            "Time:                        16:40:21   Log-Likelihood:                 584.63\n",
            "No. Observations:                 117   AIC:                            -1151.\n",
            "Df Residuals:                     108   BIC:                            -1126.\n",
            "Df Model:                           8                                         \n",
            "Covariance Type:            nonrobust                                         \n",
            "=========================================================================================\n",
            "                            coef    std err          t      P>|t|      [0.025      0.975]\n",
            "-----------------------------------------------------------------------------------------\n",
            "const                     0.0811      0.004     20.932      0.000       0.073       0.089\n",
            "mediana                   0.0050      0.005      1.031      0.305      -0.005       0.014\n",
            "średnia zadł ogół         0.0792      0.001     58.000      0.000       0.076       0.082\n",
            "średnia ROA            -1.21e-05      0.000     -0.044      0.965      -0.001       0.001\n",
            "ln SIZE                  -0.0008      0.003     -0.266      0.791      -0.007       0.005\n",
            "wsk rzecz ak trw/ao      -0.0330      0.001    -23.953      0.000      -0.036      -0.030\n",
            "wskażnik dywidendy        0.0011      0.000      2.566      0.012       0.000       0.002\n",
            "średnia wsk dźwig fin -1.338e-06      0.000     -0.006      0.995      -0.000       0.000\n",
            "sektor_usługi            -0.0003      0.000     -1.918      0.058      -0.001     1.1e-05\n",
            "==============================================================================\n",
            "Omnibus:                       53.729   Durbin-Watson:                   1.870\n",
            "Prob(Omnibus):                  0.000   Jarque-Bera (JB):              343.119\n",
            "Skew:                          -1.352   Prob(JB):                     3.11e-75\n",
            "Kurtosis:                      10.942   Cond. No.                         133.\n",
            "==============================================================================\n",
            "\n",
            "Warnings:\n",
            "[1] Standard Errors assume that the covariance matrix of the errors is correctly specified.\n"
          ],
          "name": "stdout"
        }
      ]
    },
    {
      "cell_type": "code",
      "metadata": {
        "id": "8I5DSFvvh_CR",
        "colab": {
          "base_uri": "https://localhost:8080/"
        },
        "outputId": "726db0fb-8615-4620-865a-df0ed9bac9c8"
      },
      "source": [
        "X_selected = X_train_ols[:, [0, 1, 2, 3,4, 5,6, 8]]\n",
        "predictors.remove('średnia wsk dźwig fin')\n",
        "\n",
        "ols = sm.OLS(endog=y_train, exog=X_selected).fit()\n",
        "print(ols.summary(xname=predictors))"
      ],
      "execution_count": null,
      "outputs": [
        {
          "output_type": "stream",
          "text": [
            "                            OLS Regression Results                            \n",
            "==============================================================================\n",
            "Dep. Variable:              Struktura   R-squared:                       0.984\n",
            "Model:                            OLS   Adj. R-squared:                  0.983\n",
            "Method:                 Least Squares   F-statistic:                     957.6\n",
            "Date:                Sat, 23 Jan 2021   Prob (F-statistic):           9.18e-95\n",
            "Time:                        16:41:18   Log-Likelihood:                 582.67\n",
            "No. Observations:                 117   AIC:                            -1149.\n",
            "Df Residuals:                     109   BIC:                            -1127.\n",
            "Df Model:                           7                                         \n",
            "Covariance Type:            nonrobust                                         \n",
            "=======================================================================================\n",
            "                          coef    std err          t      P>|t|      [0.025      0.975]\n",
            "---------------------------------------------------------------------------------------\n",
            "const                   0.0818      0.004     20.923      0.000       0.074       0.090\n",
            "mediana                 0.0033      0.005      0.694      0.489      -0.006       0.013\n",
            "średnia zadł ogół       0.0774      0.001     76.249      0.000       0.075       0.079\n",
            "średnia ROA         -5.264e-06      0.000     -0.019      0.985      -0.001       0.001\n",
            "ln SIZE                -0.0013      0.003     -0.406      0.685      -0.008       0.005\n",
            "wsk rzecz ak trw/ao    -0.0329      0.001    -23.604      0.000      -0.036      -0.030\n",
            "wskażnik dywidendy      0.0010      0.000      2.359      0.020       0.000       0.002\n",
            "sektor_usługi        6.464e-06      0.000      0.028      0.978      -0.000       0.000\n",
            "==============================================================================\n",
            "Omnibus:                       54.489   Durbin-Watson:                   1.818\n",
            "Prob(Omnibus):                  0.000   Jarque-Bera (JB):              295.795\n",
            "Skew:                          -1.447   Prob(JB):                     5.88e-65\n",
            "Kurtosis:                      10.232   Cond. No.                         101.\n",
            "==============================================================================\n",
            "\n",
            "Warnings:\n",
            "[1] Standard Errors assume that the covariance matrix of the errors is correctly specified.\n"
          ],
          "name": "stdout"
        }
      ]
    },
    {
      "cell_type": "code",
      "metadata": {
        "id": "QDA6p-kHiAhB",
        "colab": {
          "base_uri": "https://localhost:8080/"
        },
        "outputId": "c8d50f29-714f-4266-bd27-5cacbdca42ba"
      },
      "source": [
        "X_selected = X_train_ols[:, [0, 1, 2, 4, 5,6,7]]\n",
        "predictors.remove('średnia ROA')\n",
        "\n",
        "ols = sm.OLS(endog=y_train, exog=X_selected).fit()\n",
        "print(ols.summary(xname=predictors))"
      ],
      "execution_count": null,
      "outputs": [
        {
          "output_type": "stream",
          "text": [
            "                            OLS Regression Results                            \n",
            "==============================================================================\n",
            "Dep. Variable:              Struktura   R-squared:                       0.984\n",
            "Model:                            OLS   Adj. R-squared:                  0.983\n",
            "Method:                 Least Squares   F-statistic:                     1127.\n",
            "Date:                Sat, 23 Jan 2021   Prob (F-statistic):           2.61e-96\n",
            "Time:                        16:42:02   Log-Likelihood:                 582.68\n",
            "No. Observations:                 117   AIC:                            -1151.\n",
            "Df Residuals:                     110   BIC:                            -1132.\n",
            "Df Model:                           6                                         \n",
            "Covariance Type:            nonrobust                                         \n",
            "=======================================================================================\n",
            "                          coef    std err          t      P>|t|      [0.025      0.975]\n",
            "---------------------------------------------------------------------------------------\n",
            "const                   0.0818      0.004     21.090      0.000       0.074       0.089\n",
            "mediana                 0.0034      0.005      0.728      0.468      -0.006       0.013\n",
            "średnia zadł ogół       0.0774      0.001     77.216      0.000       0.075       0.079\n",
            "ln SIZE                -0.0012      0.003     -0.359      0.720      -0.008       0.005\n",
            "wsk rzecz ak trw/ao    -0.0329      0.001    -23.759      0.000      -0.036      -0.030\n",
            "wskażnik dywidendy      0.0010      0.000      2.447      0.016       0.000       0.002\n",
            "sektor_usługi          -0.0002      0.002     -0.070      0.944      -0.005       0.005\n",
            "==============================================================================\n",
            "Omnibus:                       54.426   Durbin-Watson:                   1.819\n",
            "Prob(Omnibus):                  0.000   Jarque-Bera (JB):              295.235\n",
            "Skew:                          -1.445   Prob(JB):                     7.77e-65\n",
            "Kurtosis:                      10.225   Cond. No.                         97.2\n",
            "==============================================================================\n",
            "\n",
            "Warnings:\n",
            "[1] Standard Errors assume that the covariance matrix of the errors is correctly specified.\n"
          ],
          "name": "stdout"
        }
      ]
    },
    {
      "cell_type": "code",
      "metadata": {
        "colab": {
          "base_uri": "https://localhost:8080/"
        },
        "id": "Z25hc_7XH-iY",
        "outputId": "2d1eff45-4fd8-4f9e-d2af-c9c53950db0d"
      },
      "source": [
        "X_selected = X_train_ols[:, [0, 1, 2, 3,4, 5]]\r\n",
        "predictors.remove('sektor_usługi')\r\n",
        "\r\n",
        "ols = sm.OLS(endog=y_train, exog=X_selected).fit()\r\n",
        "print(ols.summary(xname=predictors))"
      ],
      "execution_count": null,
      "outputs": [
        {
          "output_type": "stream",
          "text": [
            "                            OLS Regression Results                            \n",
            "==============================================================================\n",
            "Dep. Variable:              Struktura   R-squared:                       0.983\n",
            "Model:                            OLS   Adj. R-squared:                  0.982\n",
            "Method:                 Least Squares   F-statistic:                     1293.\n",
            "Date:                Sat, 23 Jan 2021   Prob (F-statistic):           1.29e-96\n",
            "Time:                        16:43:03   Log-Likelihood:                 579.56\n",
            "No. Observations:                 117   AIC:                            -1147.\n",
            "Df Residuals:                     111   BIC:                            -1131.\n",
            "Df Model:                           5                                         \n",
            "Covariance Type:            nonrobust                                         \n",
            "=======================================================================================\n",
            "                          coef    std err          t      P>|t|      [0.025      0.975]\n",
            "---------------------------------------------------------------------------------------\n",
            "const                   0.0822      0.004     20.686      0.000       0.074       0.090\n",
            "mediana                -0.0015      0.004     -0.345      0.730      -0.010       0.007\n",
            "średnia zadł ogół       0.0768      0.001     77.425      0.000       0.075       0.079\n",
            "ln SIZE             -1.672e-05      0.000     -0.069      0.945      -0.000       0.000\n",
            "wsk rzecz ak trw/ao    -0.0016      0.003     -0.507      0.613      -0.008       0.005\n",
            "wskażnik dywidendy     -0.0318      0.001    -23.891      0.000      -0.034      -0.029\n",
            "==============================================================================\n",
            "Omnibus:                       50.405   Durbin-Watson:                   1.814\n",
            "Prob(Omnibus):                  0.000   Jarque-Bera (JB):              252.924\n",
            "Skew:                          -1.343   Prob(JB):                     1.20e-55\n",
            "Kurtosis:                       9.683   Cond. No.                         92.0\n",
            "==============================================================================\n",
            "\n",
            "Warnings:\n",
            "[1] Standard Errors assume that the covariance matrix of the errors is correctly specified.\n"
          ],
          "name": "stdout"
        }
      ]
    },
    {
      "cell_type": "code",
      "metadata": {
        "colab": {
          "base_uri": "https://localhost:8080/"
        },
        "id": "sr053aOjIMGb",
        "outputId": "ce3def64-553d-4eba-a78a-bf4f273b98a2"
      },
      "source": [
        "X_selected = X_train_ols[:, [0, 1, 2, 4, 5]]\r\n",
        "predictors.remove('ln SIZE')\r\n",
        "\r\n",
        "ols = sm.OLS(endog=y_train, exog=X_selected).fit()\r\n",
        "print(ols.summary(xname=predictors))"
      ],
      "execution_count": null,
      "outputs": [
        {
          "output_type": "stream",
          "text": [
            "                            OLS Regression Results                            \n",
            "==============================================================================\n",
            "Dep. Variable:              Struktura   R-squared:                       0.983\n",
            "Model:                            OLS   Adj. R-squared:                  0.983\n",
            "Method:                 Least Squares   F-statistic:                     1631.\n",
            "Date:                Sat, 23 Jan 2021   Prob (F-statistic):           3.01e-98\n",
            "Time:                        16:43:50   Log-Likelihood:                 579.55\n",
            "No. Observations:                 117   AIC:                            -1149.\n",
            "Df Residuals:                     112   BIC:                            -1135.\n",
            "Df Model:                           4                                         \n",
            "Covariance Type:            nonrobust                                         \n",
            "=======================================================================================\n",
            "                          coef    std err          t      P>|t|      [0.025      0.975]\n",
            "---------------------------------------------------------------------------------------\n",
            "const                   0.0821      0.004     20.855      0.000       0.074       0.090\n",
            "mediana                -0.0015      0.004     -0.341      0.734      -0.010       0.007\n",
            "średnia zadł ogół       0.0768      0.001     77.877      0.000       0.075       0.079\n",
            "wsk rzecz ak trw/ao    -0.0016      0.003     -0.507      0.613      -0.008       0.005\n",
            "wskażnik dywidendy     -0.0318      0.001    -24.000      0.000      -0.034      -0.029\n",
            "==============================================================================\n",
            "Omnibus:                       50.309   Durbin-Watson:                   1.813\n",
            "Prob(Omnibus):                  0.000   Jarque-Bera (JB):              252.052\n",
            "Skew:                          -1.340   Prob(JB):                     1.85e-55\n",
            "Kurtosis:                       9.672   Cond. No.                         90.9\n",
            "==============================================================================\n",
            "\n",
            "Warnings:\n",
            "[1] Standard Errors assume that the covariance matrix of the errors is correctly specified.\n"
          ],
          "name": "stdout"
        }
      ]
    },
    {
      "cell_type": "code",
      "metadata": {
        "colab": {
          "base_uri": "https://localhost:8080/"
        },
        "id": "GdAwou7FIa0C",
        "outputId": "30e9a174-aa52-4363-f801-64d5a7140d13"
      },
      "source": [
        "X_selected = X_train_ols[:, [0, 2, 3,4]]\r\n",
        "predictors.remove('mediana')\r\n",
        "\r\n",
        "ols = sm.OLS(endog=y_train, exog=X_selected).fit()\r\n",
        "print(ols.summary(xname=predictors))"
      ],
      "execution_count": null,
      "outputs": [
        {
          "output_type": "stream",
          "text": [
            "                            OLS Regression Results                            \n",
            "==============================================================================\n",
            "Dep. Variable:              Struktura   R-squared:                       0.896\n",
            "Model:                            OLS   Adj. R-squared:                  0.894\n",
            "Method:                 Least Squares   F-statistic:                     325.5\n",
            "Date:                Sat, 23 Jan 2021   Prob (F-statistic):           2.00e-55\n",
            "Time:                        16:44:41   Log-Likelihood:                 473.34\n",
            "No. Observations:                 117   AIC:                            -938.7\n",
            "Df Residuals:                     113   BIC:                            -927.6\n",
            "Df Model:                           3                                         \n",
            "Covariance Type:            nonrobust                                         \n",
            "=======================================================================================\n",
            "                          coef    std err          t      P>|t|      [0.025      0.975]\n",
            "---------------------------------------------------------------------------------------\n",
            "const                   0.0037      0.001      2.966      0.004       0.001       0.006\n",
            "średnia zadł ogół       0.0699      0.002     30.038      0.000       0.065       0.074\n",
            "wsk rzecz ak trw/ao  4.855e-05      0.001      0.082      0.935      -0.001       0.001\n",
            "wskażnik dywidendy     -0.0180      0.008     -2.350      0.021      -0.033      -0.003\n",
            "==============================================================================\n",
            "Omnibus:                        4.479   Durbin-Watson:                   2.008\n",
            "Prob(Omnibus):                  0.107   Jarque-Bera (JB):                5.245\n",
            "Skew:                          -0.167   Prob(JB):                       0.0726\n",
            "Kurtosis:                       3.982   Cond. No.                         22.4\n",
            "==============================================================================\n",
            "\n",
            "Warnings:\n",
            "[1] Standard Errors assume that the covariance matrix of the errors is correctly specified.\n"
          ],
          "name": "stdout"
        }
      ]
    },
    {
      "cell_type": "markdown",
      "metadata": {
        "id": "Qa5TRyDNiCu4"
      },
      "source": [
        "### <a name='7'></a> Eliminacja wsteczna - automatyzacja"
      ]
    },
    {
      "cell_type": "code",
      "metadata": {
        "id": "ei6-ZHctiDJ-",
        "colab": {
          "base_uri": "https://localhost:8080/"
        },
        "outputId": "e2395836-9360-4b78-d51c-b14ee3eb9ae5"
      },
      "source": [
        "X_train_numpy = X_train.values\n",
        "X_train_numpy = sm.add_constant(X_train_numpy)\n",
        "num_vars = len(X_train_numpy[0])\n",
        "\n",
        "predictors = ['const'] + list(X_train.columns)\n",
        "sl = 0.05\n",
        "\n",
        "for i in range(0, num_vars):\n",
        "    ols = sm.OLS(endog=y_train, exog=X_train_numpy).fit()\n",
        "    max_pval = max(ols.pvalues.astype('float'))\n",
        "    if max_pval > sl:\n",
        "        for j in range(0, num_vars - i):\n",
        "            if ols.pvalues[j].astype('float') == max_pval:\n",
        "                X_train_numpy = np.delete(X_train_numpy, j, axis=1)\n",
        "                predictors.remove(predictors[j])\n",
        "\n",
        "print(ols.summary(xname=predictors))"
      ],
      "execution_count": null,
      "outputs": [
        {
          "output_type": "stream",
          "text": [
            "                            OLS Regression Results                            \n",
            "==============================================================================\n",
            "Dep. Variable:              Struktura   R-squared:                       0.984\n",
            "Model:                            OLS   Adj. R-squared:                  0.983\n",
            "Method:                 Least Squares   F-statistic:                     1719.\n",
            "Date:                Sat, 23 Jan 2021   Prob (F-statistic):           1.66e-99\n",
            "Time:                        16:46:10   Log-Likelihood:                 582.58\n",
            "No. Observations:                 117   AIC:                            -1155.\n",
            "Df Residuals:                     112   BIC:                            -1141.\n",
            "Df Model:                           4                                         \n",
            "Covariance Type:            nonrobust                                         \n",
            "=======================================================================================\n",
            "                          coef    std err          t      P>|t|      [0.025      0.975]\n",
            "---------------------------------------------------------------------------------------\n",
            "const                   0.0690      0.003     25.727      0.000       0.064       0.074\n",
            "mediana                 0.0316      0.001     25.728      0.000       0.029       0.034\n",
            "średnia zadł ogół       0.0775      0.001     80.382      0.000       0.076       0.079\n",
            "ln SIZE                -0.0331      0.001    -24.686      0.000      -0.036      -0.030\n",
            "wsk rzecz ak trw/ao     0.0010      0.000      2.495      0.014       0.000       0.002\n",
            "sektor_usługi          -0.0022      0.000     -5.986      0.000      -0.003      -0.001\n",
            "==============================================================================\n",
            "Omnibus:                       53.574   Durbin-Watson:                   1.811\n",
            "Prob(Omnibus):                  0.000   Jarque-Bera (JB):              281.916\n",
            "Skew:                          -1.430   Prob(JB):                     6.06e-62\n",
            "Kurtosis:                      10.047   Cond. No.                     3.95e+16\n",
            "==============================================================================\n",
            "\n",
            "Warnings:\n",
            "[1] Standard Errors assume that the covariance matrix of the errors is correctly specified.\n",
            "[2] The smallest eigenvalue is 6.39e-31. This might indicate that there are\n",
            "strong multicollinearity problems or that the design matrix is singular.\n"
          ],
          "name": "stdout"
        }
      ]
    },
    {
      "cell_type": "markdown",
      "metadata": {
        "id": "Pu1Pqda3iHmq"
      },
      "source": [
        "### <a name='8'></a> Zapisanie końcowego modelu"
      ]
    },
    {
      "cell_type": "code",
      "metadata": {
        "id": "8XGgEZARiIB6"
      },
      "source": [
        "ols.save('model_regresja.pickle')"
      ],
      "execution_count": null,
      "outputs": []
    },
    {
      "cell_type": "code",
      "metadata": {
        "id": "d8UhQlxwtFh_"
      },
      "source": [
        ""
      ],
      "execution_count": null,
      "outputs": []
    }
  ]
}